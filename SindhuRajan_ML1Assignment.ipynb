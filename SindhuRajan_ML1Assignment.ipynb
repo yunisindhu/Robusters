{
  "nbformat": 4,
  "nbformat_minor": 0,
  "metadata": {
    "colab": {
      "name": "SindhuRajan_ML1Assignment.ipynb",
      "provenance": [],
      "authorship_tag": "ABX9TyME93/9mjobzZF3kxNmcApr",
      "include_colab_link": true
    },
    "kernelspec": {
      "name": "python3",
      "display_name": "Python 3"
    },
    "language_info": {
      "name": "python"
    }
  },
  "cells": [
    {
      "cell_type": "markdown",
      "metadata": {
        "id": "view-in-github",
        "colab_type": "text"
      },
      "source": [
        "<a href=\"https://colab.research.google.com/github/yunisindhu/Robusters/blob/master/SindhuRajan_ML1Assignment.ipynb\" target=\"_parent\"><img src=\"https://colab.research.google.com/assets/colab-badge.svg\" alt=\"Open In Colab\"/></a>"
      ]
    },
    {
      "cell_type": "markdown",
      "metadata": {
        "id": "99mcmZWhgOj8"
      },
      "source": [
        "Machine Learning 1 - Assignment"
      ]
    },
    {
      "cell_type": "code",
      "metadata": {
        "id": "5sdho0pHuljL"
      },
      "source": [
        "df=pd.read_csv(\"/content/drive/MyDrive/Colab Notebooks/Heart.csv\")"
      ],
      "execution_count": 22,
      "outputs": []
    },
    {
      "cell_type": "code",
      "metadata": {
        "id": "AW8ix2Ljgady",
        "outputId": "dc5d5da9-7ca6-4e26-b688-1092588e03e8",
        "colab": {
          "base_uri": "https://localhost:8080/",
          "height": 678
        }
      },
      "source": [
        "from sklearn.preprocessing import LabelEncoder\n",
        "lb_make = LabelEncoder()\n",
        "from sklearn.discriminant_analysis import LinearDiscriminantAnalysis\n",
        "df=pd.read_csv(\"/content/drive/MyDrive/Colab Notebooks/Heart.csv\")\n",
        "print (df.head(10))\n",
        "col=df.columns.tolist()\n",
        "print (col)\n",
        "df[\"AHD_code\"]=lb_make.fit_transform(df[\"AHD\"])\n",
        "df[\"ChestPain_code\"]=lb_make.fit_transform(df[\"ChestPain\"])\n",
        "df[[\"ChestPain\", \"ChestPain_code\", \"AHD\", \"AHD_code\", \"Sex\"]]"
      ],
      "execution_count": 27,
      "outputs": [
        {
          "output_type": "stream",
          "text": [
            "   Unnamed: 0  Age  Sex     ChestPain  ...  Slope   Ca        Thal  AHD\n",
            "0           1   63    1       typical  ...      3  0.0       fixed   No\n",
            "1           2   67    1  asymptomatic  ...      2  3.0      normal  Yes\n",
            "2           3   67    1  asymptomatic  ...      2  2.0  reversable  Yes\n",
            "3           4   37    1    nonanginal  ...      3  0.0      normal   No\n",
            "4           5   41    0    nontypical  ...      1  0.0      normal   No\n",
            "5           6   56    1    nontypical  ...      1  0.0      normal   No\n",
            "6           7   62    0  asymptomatic  ...      3  2.0      normal  Yes\n",
            "7           8   57    0  asymptomatic  ...      1  0.0      normal   No\n",
            "8           9   63    1  asymptomatic  ...      2  1.0  reversable  Yes\n",
            "9          10   53    1  asymptomatic  ...      3  0.0  reversable  Yes\n",
            "\n",
            "[10 rows x 15 columns]\n",
            "['Unnamed: 0', 'Age', 'Sex', 'ChestPain', 'RestBP', 'Chol', 'Fbs', 'RestECG', 'MaxHR', 'ExAng', 'Oldpeak', 'Slope', 'Ca', 'Thal', 'AHD']\n"
          ],
          "name": "stdout"
        },
        {
          "output_type": "execute_result",
          "data": {
            "text/html": [
              "<div>\n",
              "<style scoped>\n",
              "    .dataframe tbody tr th:only-of-type {\n",
              "        vertical-align: middle;\n",
              "    }\n",
              "\n",
              "    .dataframe tbody tr th {\n",
              "        vertical-align: top;\n",
              "    }\n",
              "\n",
              "    .dataframe thead th {\n",
              "        text-align: right;\n",
              "    }\n",
              "</style>\n",
              "<table border=\"1\" class=\"dataframe\">\n",
              "  <thead>\n",
              "    <tr style=\"text-align: right;\">\n",
              "      <th></th>\n",
              "      <th>ChestPain</th>\n",
              "      <th>ChestPain_code</th>\n",
              "      <th>AHD</th>\n",
              "      <th>AHD_code</th>\n",
              "      <th>Sex</th>\n",
              "    </tr>\n",
              "  </thead>\n",
              "  <tbody>\n",
              "    <tr>\n",
              "      <th>0</th>\n",
              "      <td>typical</td>\n",
              "      <td>3</td>\n",
              "      <td>No</td>\n",
              "      <td>0</td>\n",
              "      <td>1</td>\n",
              "    </tr>\n",
              "    <tr>\n",
              "      <th>1</th>\n",
              "      <td>asymptomatic</td>\n",
              "      <td>0</td>\n",
              "      <td>Yes</td>\n",
              "      <td>1</td>\n",
              "      <td>1</td>\n",
              "    </tr>\n",
              "    <tr>\n",
              "      <th>2</th>\n",
              "      <td>asymptomatic</td>\n",
              "      <td>0</td>\n",
              "      <td>Yes</td>\n",
              "      <td>1</td>\n",
              "      <td>1</td>\n",
              "    </tr>\n",
              "    <tr>\n",
              "      <th>3</th>\n",
              "      <td>nonanginal</td>\n",
              "      <td>1</td>\n",
              "      <td>No</td>\n",
              "      <td>0</td>\n",
              "      <td>1</td>\n",
              "    </tr>\n",
              "    <tr>\n",
              "      <th>4</th>\n",
              "      <td>nontypical</td>\n",
              "      <td>2</td>\n",
              "      <td>No</td>\n",
              "      <td>0</td>\n",
              "      <td>0</td>\n",
              "    </tr>\n",
              "    <tr>\n",
              "      <th>...</th>\n",
              "      <td>...</td>\n",
              "      <td>...</td>\n",
              "      <td>...</td>\n",
              "      <td>...</td>\n",
              "      <td>...</td>\n",
              "    </tr>\n",
              "    <tr>\n",
              "      <th>298</th>\n",
              "      <td>typical</td>\n",
              "      <td>3</td>\n",
              "      <td>Yes</td>\n",
              "      <td>1</td>\n",
              "      <td>1</td>\n",
              "    </tr>\n",
              "    <tr>\n",
              "      <th>299</th>\n",
              "      <td>asymptomatic</td>\n",
              "      <td>0</td>\n",
              "      <td>Yes</td>\n",
              "      <td>1</td>\n",
              "      <td>1</td>\n",
              "    </tr>\n",
              "    <tr>\n",
              "      <th>300</th>\n",
              "      <td>asymptomatic</td>\n",
              "      <td>0</td>\n",
              "      <td>Yes</td>\n",
              "      <td>1</td>\n",
              "      <td>1</td>\n",
              "    </tr>\n",
              "    <tr>\n",
              "      <th>301</th>\n",
              "      <td>nontypical</td>\n",
              "      <td>2</td>\n",
              "      <td>Yes</td>\n",
              "      <td>1</td>\n",
              "      <td>0</td>\n",
              "    </tr>\n",
              "    <tr>\n",
              "      <th>302</th>\n",
              "      <td>nonanginal</td>\n",
              "      <td>1</td>\n",
              "      <td>No</td>\n",
              "      <td>0</td>\n",
              "      <td>1</td>\n",
              "    </tr>\n",
              "  </tbody>\n",
              "</table>\n",
              "<p>303 rows × 5 columns</p>\n",
              "</div>"
            ],
            "text/plain": [
              "        ChestPain  ChestPain_code  AHD  AHD_code  Sex\n",
              "0         typical               3   No         0    1\n",
              "1    asymptomatic               0  Yes         1    1\n",
              "2    asymptomatic               0  Yes         1    1\n",
              "3      nonanginal               1   No         0    1\n",
              "4      nontypical               2   No         0    0\n",
              "..            ...             ...  ...       ...  ...\n",
              "298       typical               3  Yes         1    1\n",
              "299  asymptomatic               0  Yes         1    1\n",
              "300  asymptomatic               0  Yes         1    1\n",
              "301    nontypical               2  Yes         1    0\n",
              "302    nonanginal               1   No         0    1\n",
              "\n",
              "[303 rows x 5 columns]"
            ]
          },
          "metadata": {
            "tags": []
          },
          "execution_count": 27
        }
      ]
    }
  ]
}