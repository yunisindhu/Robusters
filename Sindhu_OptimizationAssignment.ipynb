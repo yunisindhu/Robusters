{
  "nbformat": 4,
  "nbformat_minor": 0,
  "metadata": {
    "colab": {
      "name": "Sindhu_OptimizationAssignment.ipynb",
      "provenance": [],
      "authorship_tag": "ABX9TyMnGy96G6/qcqIcrm6e9CVC",
      "include_colab_link": true
    },
    "kernelspec": {
      "name": "python3",
      "display_name": "Python 3"
    }
  },
  "cells": [
    {
      "cell_type": "markdown",
      "metadata": {
        "id": "view-in-github",
        "colab_type": "text"
      },
      "source": [
        "<a href=\"https://colab.research.google.com/github/yunisindhu/Robusters/blob/master/Sindhu_OptimizationAssignment.ipynb\" target=\"_parent\"><img src=\"https://colab.research.google.com/assets/colab-badge.svg\" alt=\"Open In Colab\"/></a>"
      ]
    },
    {
      "cell_type": "markdown",
      "metadata": {
        "id": "-CwWBERcNatb"
      },
      "source": [
        "**Assignment on Optimization**\n",
        "\n",
        "\n",
        "\n"
      ]
    },
    {
      "cell_type": "code",
      "metadata": {
        "id": "Kj7Apx7fROTb",
        "outputId": "5327e264-0c6c-4d95-d68a-272348572da5",
        "colab": {
          "base_uri": "https://localhost:8080/",
          "height": 193
        }
      },
      "source": [
        "!pip install pulp"
      ],
      "execution_count": 7,
      "outputs": [
        {
          "output_type": "stream",
          "text": [
            "Collecting pulp\n",
            "\u001b[?25l  Downloading https://files.pythonhosted.org/packages/c3/22/5743d7b5d69f84fb63a0b4925862522dbf80e82defcd0c447afb694f3fd0/PuLP-2.3-py3-none-any.whl (40.6MB)\n",
            "\u001b[K     |████████████████████████████████| 40.6MB 99kB/s \n",
            "\u001b[?25hCollecting amply>=0.1.2\n",
            "  Downloading https://files.pythonhosted.org/packages/f3/c5/dfa09dd2595a2ab2ab4e6fa7bebef9565812722e1980d04b0edce5032066/amply-0.1.4-py3-none-any.whl\n",
            "Requirement already satisfied: docutils>=0.3 in /usr/local/lib/python3.6/dist-packages (from amply>=0.1.2->pulp) (0.16)\n",
            "Requirement already satisfied: pyparsing in /usr/local/lib/python3.6/dist-packages (from amply>=0.1.2->pulp) (2.4.7)\n",
            "Installing collected packages: amply, pulp\n",
            "Successfully installed amply-0.1.4 pulp-2.3\n"
          ],
          "name": "stdout"
        }
      ]
    },
    {
      "cell_type": "markdown",
      "metadata": {
        "id": "cFebeuarxBpJ"
      },
      "source": [
        "Solution for Problem 1:"
      ]
    },
    {
      "cell_type": "code",
      "metadata": {
        "id": "vVgrZhSwxE6i"
      },
      "source": [
        ""
      ],
      "execution_count": null,
      "outputs": []
    },
    {
      "cell_type": "code",
      "metadata": {
        "id": "ftvqDs4PxOfy",
        "outputId": "b57a5a17-28d0-4de8-9462-770979e17e95",
        "colab": {
          "base_uri": "https://localhost:8080/",
          "height": 543
        }
      },
      "source": [
        "Lp_prob =  p.LpProblem('Problem#1',  p.LpMaximize)\n",
        "\n",
        "# Creating Problem Variables\n",
        "x = p.LpVariable(\"x\", lowBound = 0)   # Create a variable x >= 0 \n",
        "y = p.LpVariable(\"y\", lowBound = 0)   # Create a variable y >= 0\n",
        "\n",
        "# Objective Function \n",
        "Lp_prob += 25 * x + 55 * y   # x,y are defined variables \n",
        "\n",
        "# Constraints: \n",
        "Lp_prob += 1 * x + 1 * y <= 5\n",
        "Lp_prob += 3 * x + 2 * y <= 12\n",
        "\n",
        "# Display the problem \n",
        "print(Lp_prob) \n",
        "\n",
        "status = Lp_prob.solve()    # Solver\n",
        "print(p.LpStatus[status])   # The solution status \n",
        "\n",
        "# Printing the final solution \n",
        "print(p.value(x), p.value(y),p.value(Lp_prob.objective)) \n",
        "\n",
        "### for graphical represenation \n",
        "z = np.linspace(0, 600, 10000)\n",
        "#Constraints\n",
        "y1 = (5- z)\n",
        "y2 = (12 - 3 * z)/2\n",
        "# Make plot\n",
        "plt.plot(z, y1, label=r'$x+y\\geq5$')\n",
        "plt.plot(z, y2, label=r'$3x+2y\\geq12$')\n",
        "plt.xlim((0, p.value(x)+ 10))\n",
        "plt.ylim((0, p.value(x)+ 10))\n",
        "#Labelling X and Y axis\n",
        "plt.xlabel(r'$x$')\n",
        "plt.ylabel(r'$y$')\n",
        "# Fill feasible region\n",
        "y5 = np.minimum(y2, y1)\n",
        "plt.fill_between(z, y5, color='green',alpha=0.5)\n",
        "plt.legend(bbox_to_anchor=(1.5, 1), loc=5, borderaxespad=0.)\n",
        "plt.show()"
      ],
      "execution_count": 24,
      "outputs": [
        {
          "output_type": "stream",
          "text": [
            "Problem#1:\n",
            "MAXIMIZE\n",
            "25*x + 55*y + 0\n",
            "SUBJECT TO\n",
            "_C1: x + y <= 5\n",
            "\n",
            "_C2: 3 x + 2 y <= 12\n",
            "\n",
            "VARIABLES\n",
            "x Continuous\n",
            "y Continuous\n",
            "\n",
            "Optimal\n",
            "0.0 5.0 275.0\n"
          ],
          "name": "stdout"
        },
        {
          "output_type": "display_data",
          "data": {
            "image/png": "[encoded data removed]",
            "text/plain": [
              "<Figure size 432x288 with 1 Axes>"
            ]
          },
          "metadata": {
            "tags": [],
            "needs_background": "light"
          }
        }
      ]
    },
    {
      "cell_type": "markdown",
      "metadata": {
        "id": "IVEkLkRoNika"
      },
      "source": [
        "Solution for Problem 2:"
      ]
    },
    {
      "cell_type": "code",
      "metadata": {
        "id": "gJPr30VqN7CS",
        "outputId": "38232aae-1c5e-4061-e5d5-e6caca3a88e3",
        "colab": {
          "base_uri": "https://localhost:8080/",
          "height": 139
        }
      },
      "source": [
        "from cvxopt import matrix, solvers\n",
        "Q = 2 * matrix([  [2,  .5],  [.5,  1]  ])\n",
        "p = matrix([1.0, 1.0])\n",
        "G = matrix([[-1.0,0.0],[0.0,-1.0]])\n",
        "h = matrix([0.0,0.0])\n",
        "A  =  matrix([1.0,  1.0],  (1,2))\n",
        "b = matrix(1.0)\n",
        "sol=solvers.qp(Q, p, G, h, A, b) "
      ],
      "execution_count": 5,
      "outputs": [
        {
          "output_type": "stream",
          "text": [
            "     pcost       dcost       gap    pres   dres\n",
            " 0:  1.8889e+00  7.7778e-01  1e+00  2e-16  2e+00\n",
            " 1:  1.8769e+00  1.8320e+00  4e-02  2e-16  6e-02\n",
            " 2:  1.8750e+00  1.8739e+00  1e-03  2e-16  5e-04\n",
            " 3:  1.8750e+00  1.8750e+00  1e-05  1e-16  5e-06\n",
            " 4:  1.8750e+00  1.8750e+00  1e-07  1e-16  5e-08\n",
            "Optimal solution found.\n"
          ],
          "name": "stdout"
        }
      ]
    },
    {
      "cell_type": "code",
      "metadata": {
        "id": "Fr4Bs0_MP14S",
        "outputId": "ff35286f-c5f3-43cf-a8b5-05188f7b9604",
        "colab": {
          "base_uri": "https://localhost:8080/",
          "height": 87
        }
      },
      "source": [
        "print(sol['x'])\n",
        "print(sol['primal objective'])"
      ],
      "execution_count": 6,
      "outputs": [
        {
          "output_type": "stream",
          "text": [
            "[ 2.50e-01]\n",
            "[ 7.50e-01]\n",
            "\n",
            "1.875000000000018\n"
          ],
          "name": "stdout"
        }
      ]
    },
    {
      "cell_type": "markdown",
      "metadata": {
        "id": "d51MJ1MOQ8kL"
      },
      "source": [
        "Solution to Problem 3:"
      ]
    },
    {
      "cell_type": "code",
      "metadata": {
        "id": "G4v9lY2kRCfe"
      },
      "source": [
        "%matplotlib inline \n",
        "import pulp as p\n",
        "#To Create scatter line, bars, charts and  figure  \n",
        "import matplotlib.pyplot as plt \n",
        "#Whole-some package for scientific operations\n",
        "import numpy as np"
      ],
      "execution_count": 9,
      "outputs": []
    },
    {
      "cell_type": "code",
      "metadata": {
        "id": "_d3VWu-LUcal",
        "outputId": "fe05ec4a-ba96-402b-8b54-3d09734e8233",
        "colab": {
          "base_uri": "https://localhost:8080/",
          "height": 468
        }
      },
      "source": [
        "Lp_prob =  p.LpProblem('Problem#3',  p.LpMinimize)\n",
        "\n",
        "# Creating Problem Variables\n",
        "x = p.LpVariable(\"x\", lowBound = 0)   # Create a variable x >= 0 \n",
        "y = p.LpVariable(\"y\", lowBound = 0)   # Create a variable y >= 0\n",
        "z = p.LpVariable(\"z\", lowBound = 0)   # Create a variable z >= 0 \n",
        "a = p.LpVariable(\"a\", lowBound = 0)   # Create a variable a >= 0\n",
        "b = p.LpVariable(\"b\", lowBound = 0)   # Create a variable b >= 0 \n",
        "c = p.LpVariable(\"c\", lowBound = 0)   # Create a variable c >= 0\n",
        "\n",
        "# Objective Function \n",
        "Lp_prob += x+y+z+a+b+c   # x,y,z,a,b,c are defined variables \n",
        "\n",
        "# Constraints: \n",
        "Lp_prob += x + y >=1 \n",
        "Lp_prob += x + y + c >= 1\n",
        "Lp_prob += z + a >= 1\n",
        "Lp_prob += z + a + b >= 1\n",
        "Lp_prob += a + b + c >= 1\n",
        "Lp_prob += y + a + b >= 1\n",
        "\n",
        "\n",
        "# Display the problem \n",
        "print(Lp_prob) \n",
        "\n",
        "status = Lp_prob.solve()  \n",
        "print(p.LpStatus[status])   # The solution status  if 1-optimal, 0- no solution \n",
        "\n",
        "# Printing the final solution \n",
        "print(p.value(x), p.value(y), p.value(z), p.value(a), p.value(b), p.value(c),p.value(Lp_prob.objective)) \n"
      ],
      "execution_count": 16,
      "outputs": [
        {
          "output_type": "stream",
          "text": [
            "Problem#3:\n",
            "MINIMIZE\n",
            "1*a + 1*b + 1*c + 1*x + 1*y + 1*z + 0\n",
            "SUBJECT TO\n",
            "_C1: x + y >= 1\n",
            "\n",
            "_C2: c + x + y >= 1\n",
            "\n",
            "_C3: a + z >= 1\n",
            "\n",
            "_C4: a + b + z >= 1\n",
            "\n",
            "_C5: a + b + c >= 1\n",
            "\n",
            "_C6: a + b + y >= 1\n",
            "\n",
            "VARIABLES\n",
            "a Continuous\n",
            "b Continuous\n",
            "c Continuous\n",
            "x Continuous\n",
            "y Continuous\n",
            "z Continuous\n",
            "\n",
            "Optimal\n",
            "1.0 0.0 0.0 1.0 0.0 0.0 2.0\n"
          ],
          "name": "stdout"
        }
      ]
    },
    {
      "cell_type": "markdown",
      "metadata": {
        "id": "9kW6prjst7IT"
      },
      "source": [
        "Solution for Problem 4:"
      ]
    },
    {
      "cell_type": "code",
      "metadata": {
        "id": "OCkmIZKbt_Vv",
        "outputId": "23c1b084-2b5f-4455-97ce-12c416d489b1",
        "colab": {
          "base_uri": "https://localhost:8080/",
          "height": 260
        }
      },
      "source": [
        "import pulp as p\n",
        "import matplotlib.pyplot as plt #Used for creating scatter line bars, charts, figure \n",
        "import numpy as np # a whole-some package for performing basic scientific operations\n",
        "\n",
        "Lp_prob = p.LpProblem('Problem#4i', p.LpMaximize)\n",
        "\n",
        "#\tCreate problem Variables\t\n",
        "x\t= p.LpVariable(\"x\", lowBound\t=\t0)\t#\tCreate\ta\tvariable\tx\t>=\t0\n",
        "y\t= p.LpVariable(\"y\", lowBound\t=\t0)\t#\tCreate\ta\tvariable\ty\t>=\t0\n",
        "z = p.LpVariable(\"z\", lowBound\t=\t0)\t#\tCreate\ta\tvariable\tz\t>=\t0\n",
        "a\t= p.LpVariable(\"a\", lowBound\t=\t0)\t#\tCreate\ta\tvariable\ta\t>=\t0\n",
        "\n",
        "# Objective Function\n",
        "Lp_prob += 14 * x + 8 * y + 6 * z + 6 * a\n",
        "\n",
        "# Constraints:\n",
        "Lp_prob += 28 * x + 15 * y + 13 * z + 12 * a <= 39\n",
        "\n",
        "# Display the problem \n",
        "print(Lp_prob)\n",
        "\n",
        "status  =  Lp_prob.solve()\t# Solver\n",
        "print(p.LpStatus[status])\t# The solution status\n",
        "\n",
        "# Printing the final solution\n",
        "print(p.value(x), p.value(y), p.value(z), p.value(a), p.value(Lp_prob.objective))\n",
        "\n",
        "\n"
      ],
      "execution_count": 32,
      "outputs": [
        {
          "output_type": "stream",
          "text": [
            "Problem#4i:\n",
            "MAXIMIZE\n",
            "6*a + 14*x + 8*y + 6*z + 0\n",
            "SUBJECT TO\n",
            "_C1: 12 a + 28 x + 15 y + 13 z <= 39\n",
            "\n",
            "VARIABLES\n",
            "a Continuous\n",
            "x Continuous\n",
            "y Continuous\n",
            "z Continuous\n",
            "\n",
            "Optimal\n",
            "0.0 2.6 0.0 0.0 20.8\n"
          ],
          "name": "stdout"
        }
      ]
    },
    {
      "cell_type": "code",
      "metadata": {
        "id": "k5fZZoHo7ZEL",
        "outputId": "f394d740-2ac0-4484-af8f-6853bc7bf2f5",
        "colab": {
          "base_uri": "https://localhost:8080/",
          "height": 260
        }
      },
      "source": [
        "import pulp as p\n",
        "import matplotlib.pyplot as plt \n",
        "import numpy as np \n",
        "Lp_prob = p.LpProblem('Problem#4ii', p.LpMaximize)\n",
        "\n",
        "\n",
        "#\tCreate problem Variables\t\t\t\t\t\t\t\t\t\n",
        "x\t= p.LpVariable(\"x\", lowBound\t=\t0)\t#\tCreate\ta\tvariable\tx\t>=\t0\n",
        "y\t= p.LpVariable(\"y\", lowBound\t=\t0)\t#\tCreate\ta\tvariable\ty\t>=\t0\n",
        "z\t= p.LpVariable(\"z\", lowBound\t=\t0)\t#\tCreate\ta\tvariable\tz\t>=\t0\n",
        "a\t= p.LpVariable(\"a\", lowBound\t=\t0)\t#\tCreate\ta\tvariable\ta\t>=\t0\n",
        "\n",
        "# Objective Function\n",
        "Lp_prob += 14 * x + 8 * y + 6 * z + 6 * a\n",
        "\n",
        "# Constraints:\n",
        "Lp_prob += 2 * x + y + z + a <= 2\n",
        "\n",
        "# Display the problem \n",
        "print(Lp_prob)\n",
        "\n",
        "status  =  Lp_prob.solve()\t# Solver\n",
        "print(p.LpStatus[status])\t# The solution status\n",
        "\n",
        "# Printing the final solution\n",
        " \n",
        "print(p.value(x), p.value(y), p.value(z), p.value(a), p.value(Lp_prob.objective))\n"
      ],
      "execution_count": 35,
      "outputs": [
        {
          "output_type": "stream",
          "text": [
            "Problem#4ii:\n",
            "MAXIMIZE\n",
            "6*a + 14*x + 8*y + 6*z + 0\n",
            "SUBJECT TO\n",
            "_C1: a + 2 x + y + z <= 2\n",
            "\n",
            "VARIABLES\n",
            "a Continuous\n",
            "x Continuous\n",
            "y Continuous\n",
            "z Continuous\n",
            "\n",
            "Optimal\n",
            "0.0 2.0 0.0 0.0 16.0\n"
          ],
          "name": "stdout"
        }
      ]
    },
    {
      "cell_type": "code",
      "metadata": {
        "id": "5EVZnhHeBOyN",
        "outputId": "979dfff2-c188-45c9-9c3d-098d14295c77",
        "colab": {
          "base_uri": "https://localhost:8080/",
          "height": 364
        }
      },
      "source": [
        "import pulp as p\n",
        "import matplotlib.pyplot as plt #it is used for creating scatter line bars, charts, figure import numpy as np # a whole-some package for performing basic scientific operations\n",
        "Lp_prob = p.LpProblem('Problem', p.LpMaximize)\n",
        "\n",
        "\n",
        "#\tCreate problem Variables\t\t\t\t\t\t\t\t\t\n",
        "x\t= p.LpVariable(\"x\", lowBound\t=\t0)\t#\tCreate\ta\tvariable\tx\t>=\t0\n",
        "y\t= p.LpVariable(\"y\", lowBound\t=\t0)\t#\tCreate\ta\tvariable\ty\t>=\t0\n",
        "z\t= p.LpVariable(\"z\", lowBound\t=\t0)\t#\tCreate\ta\tvariable\tz\t>=\t0\n",
        "a\t= p.LpVariable(\"a\", lowBound\t=\t0)\t#\tCreate\ta\tvariable\ta\t>=\t0\n",
        "\n",
        "# Objective Function\n",
        "Lp_prob += 14 * x + 8 * y + 6 * z + 6 * a\n",
        "\n",
        "# Constraints:\n",
        "Lp_prob += y + z + a <= 2 \n",
        "Lp_prob += x + y <= 1\n",
        "Lp_prob += x + z <= 1 \n",
        "Lp_prob  +=  x  +  a  <= 1\n",
        "\n",
        "\n",
        "# Display the problem print(Lp_prob)\n",
        "print(Lp_prob)\n",
        "\n",
        "status  =  Lp_prob.solve()\t# Solver\n",
        "print(p.LpStatus[status])\t# The solution status\n",
        "\n",
        "# Printing the final solution\n",
        "print(p.value(x), p.value(y), p.value(z), p.value(a), p.value(Lp_prob.objective))\n",
        "\n"
      ],
      "execution_count": 38,
      "outputs": [
        {
          "output_type": "stream",
          "text": [
            "Problem:\n",
            "MAXIMIZE\n",
            "6*a + 14*x + 8*y + 6*z + 0\n",
            "SUBJECT TO\n",
            "_C1: a + y + z <= 2\n",
            "\n",
            "_C2: x + y <= 1\n",
            "\n",
            "_C3: x + z <= 1\n",
            "\n",
            "_C4: a + x <= 1\n",
            "\n",
            "VARIABLES\n",
            "a Continuous\n",
            "x Continuous\n",
            "y Continuous\n",
            "z Continuous\n",
            "\n",
            "Optimal\n",
            "0.33333333 0.66666667 0.66666667 0.66666667 18.00000002\n"
          ],
          "name": "stdout"
        }
      ]
    },
    {
      "cell_type": "markdown",
      "metadata": {
        "id": "rfdoxKHWBwbn"
      },
      "source": [
        "Solution for Problem 5"
      ]
    },
    {
      "cell_type": "code",
      "metadata": {
        "id": "SN69yrNhBy99",
        "outputId": "8fc74a91-e2e7-4a8c-ee09-dc4821335d4e",
        "colab": {
          "base_uri": "https://localhost:8080/",
          "height": 277
        }
      },
      "source": [
        "# Import the necessary packages import numpy\n",
        "from cvxopt import matrix \n",
        "from cvxopt import solvers\n",
        "# Define QP  parameters  (directly)  \n",
        "P = matrix([[1.0,0.0],[0.0,0.0]])\n",
        "q = matrix([3.0,4.0])\n",
        "G = matrix([[0.0,-1.0,-1.0,2.0,3.0],[0.0,-1.0,-3.0,5.0,4.0]]) \n",
        "h = matrix([0.0,0.0,-15.0,100.0,80.0])\n",
        "\n",
        "\n",
        "sol = solvers.qp(P,q,G,h)\n",
        "\n",
        "print(sol['x'])\n"
      ],
      "execution_count": 48,
      "outputs": [
        {
          "output_type": "stream",
          "text": [
            "     pcost       dcost       gap    pres   dres\n",
            " 0:  8.3415e+01 -7.3339e+02  9e+02  2e-02  4e+01\n",
            " 1:  7.1829e+01 -4.2436e-01  8e+01  1e-03  3e+00\n",
            " 2:  5.9270e+01  4.5692e+01  1e+01  4e-04  9e-01\n",
            " 3:  1.9904e+01  2.3816e+00  2e+01  4e-04  8e-01\n",
            " 4:  3.7951e+01  1.6424e+01  2e+01  3e-04  6e-01\n",
            " 5:  1.8799e+01  9.1427e+00  1e+01  6e-05  1e-01\n",
            " 6:  1.8613e+01  1.8513e+01  1e-01  7e-07  2e-03\n",
            " 7:  1.8611e+01  1.8610e+01  1e-03  7e-09  2e-05\n",
            " 8:  1.8611e+01  1.8611e+01  1e-05  7e-11  2e-07\n",
            " 9:  1.8611e+01  1.8611e+01  1e-07  7e-13  2e-09\n",
            "Optimal solution found.\n",
            "[-1.67e+00]\n",
            "[ 5.56e+00]\n",
            "\n"
          ],
          "name": "stdout"
        }
      ]
    }
  ]
}