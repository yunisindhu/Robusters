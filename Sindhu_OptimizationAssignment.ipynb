{
  "nbformat": 4,
  "nbformat_minor": 0,
  "metadata": {
    "colab": {
      "name": "Sindhu_OptimizationAssignment.ipynb",
      "provenance": [],
      "authorship_tag": "ABX9TyPrQCSMQIiGcFslEGXmGg+K",
      "include_colab_link": true
    },
    "kernelspec": {
      "name": "python3",
      "display_name": "Python 3"
    }
  },
  "cells": [
    {
      "cell_type": "markdown",
      "metadata": {
        "id": "view-in-github",
        "colab_type": "text"
      },
      "source": [
        "<a href=\"https://colab.research.google.com/github/yunisindhu/Robusters/blob/master/Sindhu_OptimizationAssignment.ipynb\" target=\"_parent\"><img src=\"https://colab.research.google.com/assets/colab-badge.svg\" alt=\"Open In Colab\"/></a>"
      ]
    },
    {
      "cell_type": "markdown",
      "metadata": {
        "id": "-CwWBERcNatb"
      },
      "source": [
        "**Assignment on Optimization**\n",
        "\n",
        "\n",
        "\n"
      ]
    },
    {
      "cell_type": "markdown",
      "metadata": {
        "id": "IVEkLkRoNika"
      },
      "source": [
        "Solution for Problem 2:"
      ]
    },
    {
      "cell_type": "code",
      "metadata": {
        "id": "gJPr30VqN7CS",
        "outputId": "38232aae-1c5e-4061-e5d5-e6caca3a88e3",
        "colab": {
          "base_uri": "https://localhost:8080/",
          "height": 139
        }
      },
      "source": [
        "from cvxopt import matrix, solvers\n",
        "Q = 2 * matrix([  [2,  .5],  [.5,  1]  ])\n",
        "p = matrix([1.0, 1.0])\n",
        "G = matrix([[-1.0,0.0],[0.0,-1.0]])\n",
        "h = matrix([0.0,0.0])\n",
        "A  =  matrix([1.0,  1.0],  (1,2))\n",
        "b = matrix(1.0)\n",
        "sol=solvers.qp(Q, p, G, h, A, b) "
      ],
      "execution_count": 5,
      "outputs": [
        {
          "output_type": "stream",
          "text": [
            "     pcost       dcost       gap    pres   dres\n",
            " 0:  1.8889e+00  7.7778e-01  1e+00  2e-16  2e+00\n",
            " 1:  1.8769e+00  1.8320e+00  4e-02  2e-16  6e-02\n",
            " 2:  1.8750e+00  1.8739e+00  1e-03  2e-16  5e-04\n",
            " 3:  1.8750e+00  1.8750e+00  1e-05  1e-16  5e-06\n",
            " 4:  1.8750e+00  1.8750e+00  1e-07  1e-16  5e-08\n",
            "Optimal solution found.\n"
          ],
          "name": "stdout"
        }
      ]
    },
    {
      "cell_type": "code",
      "metadata": {
        "id": "Fr4Bs0_MP14S",
        "outputId": "ff35286f-c5f3-43cf-a8b5-05188f7b9604",
        "colab": {
          "base_uri": "https://localhost:8080/",
          "height": 87
        }
      },
      "source": [
        "print(sol['x'])\n",
        "print(sol['primal objective'])"
      ],
      "execution_count": 6,
      "outputs": [
        {
          "output_type": "stream",
          "text": [
            "[ 2.50e-01]\n",
            "[ 7.50e-01]\n",
            "\n",
            "1.875000000000018\n"
          ],
          "name": "stdout"
        }
      ]
    }
  ]
}