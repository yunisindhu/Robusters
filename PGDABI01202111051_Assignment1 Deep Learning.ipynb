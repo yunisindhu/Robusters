{
  "nbformat": 4,
  "nbformat_minor": 0,
  "metadata": {
    "kernelspec": {
      "display_name": "Python 3",
      "language": "python",
      "name": "python3"
    },
    "language_info": {
      "codemirror_mode": {
        "name": "ipython",
        "version": 3
      },
      "file_extension": ".py",
      "mimetype": "text/x-python",
      "name": "python",
      "nbconvert_exporter": "python",
      "pygments_lexer": "ipython3",
      "version": "3.7.6"
    },
    "colab": {
      "name": "PGDABI01202113839_Assignment_1 Fashion MNIST.ipynb",
      "provenance": []
    }
  },
  "cells": [
    {
      "cell_type": "code",
      "metadata": {
        "id": "dJqrZXrloPVn"
      },
      "source": [
        "# Import necessary Packages\n",
        " \n",
        "from keras.models import Sequential\n",
        "from keras.layers import Dense, Dropout, Flatten\n",
        "from keras.layers import Conv2D, MaxPooling2D\n",
        "from keras.datasets import fashion_mnist\n",
        "import matplotlib.pyplot as plt\n",
        "import keras.utils"
      ],
      "execution_count": null,
      "outputs": []
    },
    {
      "cell_type": "code",
      "metadata": {
        "id": "tfuk3mq_oPV5"
      },
      "source": [
        "import numpy as np"
      ],
      "execution_count": null,
      "outputs": []
    },
    {
      "cell_type": "code",
      "metadata": {
        "id": "CIqeoVktoPV8",
        "outputId": "152ad27a-f828-4fcf-bb0b-c15db2630b9b"
      },
      "source": [
        "# Get the dataset\n",
        "fashion_mnist.load_data()\n",
        "(X_train, Y_train), (X_test, Y_test) = fashion_mnist.load_data() \t#Keras function\n",
        "\n",
        "print (\"mnist data downloaded...\")"
      ],
      "execution_count": null,
      "outputs": [
        {
          "output_type": "stream",
          "text": [
            "mnist data downloaded...\n"
          ],
          "name": "stdout"
        }
      ]
    },
    {
      "cell_type": "code",
      "metadata": {
        "id": "La2ugtz2oPWA",
        "outputId": "4476618b-fac1-41e7-df41-d48df399d08e"
      },
      "source": [
        "Y_train"
      ],
      "execution_count": null,
      "outputs": [
        {
          "output_type": "execute_result",
          "data": {
            "text/plain": [
              "array([9, 0, 0, ..., 3, 0, 5], dtype=uint8)"
            ]
          },
          "metadata": {
            "tags": []
          },
          "execution_count": 4
        }
      ]
    },
    {
      "cell_type": "code",
      "metadata": {
        "id": "r8kUDuLfoPWC",
        "outputId": "44ab8e1e-5e48-4d9b-b808-2461508de39a"
      },
      "source": [
        "len(Y_train)"
      ],
      "execution_count": null,
      "outputs": [
        {
          "output_type": "execute_result",
          "data": {
            "text/plain": [
              "60000"
            ]
          },
          "metadata": {
            "tags": []
          },
          "execution_count": 5
        }
      ]
    },
    {
      "cell_type": "code",
      "metadata": {
        "id": "92EJfcK_oPWF",
        "outputId": "879c5b84-784d-4b19-dca4-0126792e0565"
      },
      "source": [
        "# Find the unique numbers from the train labels\n",
        "classes = np.unique(Y_train)\n",
        "classes_num = len(classes)\n",
        "print('Unique output classes : ', classes)\n",
        "print('Total number of outputs : ', classes_num)"
      ],
      "execution_count": null,
      "outputs": [
        {
          "output_type": "stream",
          "text": [
            "Unique output classes :  [0 1 2 3 4 5 6 7 8 9]\n",
            "Total number of outputs :  10\n"
          ],
          "name": "stdout"
        }
      ]
    },
    {
      "cell_type": "code",
      "metadata": {
        "id": "p5DXe6xMoPWH"
      },
      "source": [
        "#Filter classes for sandal and sneaker\n",
        "L=[]#List for two classes sandal and sneaker\n",
        "for i in range(len(Y_train)):\n",
        "    if (Y_train[i]== 0 or  Y_train[i]== 9): \n",
        "        L.append(Y_train[i])\n",
        "        #print(Y_train[i])"
      ],
      "execution_count": null,
      "outputs": []
    },
    {
      "cell_type": "code",
      "metadata": {
        "id": "qrTYY4QXoPWJ"
      },
      "source": [
        "X_train=X_train[L]\n",
        "Y_train=Y_train[L]\n",
        "X_test=X_test[L]\n",
        "Y_test=Y_test[L]"
      ],
      "execution_count": null,
      "outputs": []
    },
    {
      "cell_type": "code",
      "metadata": {
        "id": "n7aR_mBooPWK",
        "outputId": "05ac82bf-f5ee-45dc-cdeb-5e6ec2904b89"
      },
      "source": [
        "# Find the unique numbers from the train labels after applying filters\n",
        "classes = np.unique(L )\n",
        "classes_num = len(classes)\n",
        "print('Unique output classes : ', classes)\n",
        "print('Total number of outputs : ', classes_num)"
      ],
      "execution_count": null,
      "outputs": [
        {
          "output_type": "stream",
          "text": [
            "Unique output classes :  [0 9]\n",
            "Total number of outputs :  2\n"
          ],
          "name": "stdout"
        }
      ]
    },
    {
      "cell_type": "code",
      "metadata": {
        "id": "Qt0dIubfoPWL",
        "outputId": "c128256e-6ec6-496c-b46d-8bbd380b3763"
      },
      "source": [
        "# This code cell is for visualization of data only...may be skipped\n",
        "\n",
        "# plot images...subplot function is being used...nice documentation is available on the official webpage of matplotlib\n",
        "# arguments to subplot functions are number of rows, number of columns and \n",
        "# number of subplots in the plot...comma is mandatory if values are less than 10\n",
        "\n",
        "plt.subplot(221)\t\n",
        "plt.imshow(X_train[100], cmap=plt.get_cmap('gray')) # ploting first image of training data set\n",
        "\n",
        "# show the plot\n",
        "plt.show()"
      ],
      "execution_count": null,
      "outputs": [
        {
          "output_type": "display_data",
          "data": {
            "image/png": "[encoded data removed]",
            "text/plain": [
              "<Figure size 432x288 with 1 Axes>"
            ]
          },
          "metadata": {
            "tags": [],
            "needs_background": "light"
          }
        }
      ]
    },
    {
      "cell_type": "code",
      "metadata": {
        "id": "1Fttg5c4oPWN",
        "outputId": "98ff2a31-042d-4fc0-cfe8-0384be762208"
      },
      "source": [
        "print('Train: X=%s, y=%s' % (X_train.shape, Y_train.shape))\n",
        "print('Test: X=%s, y=%s' % (X_test.shape, Y_test.shape))"
      ],
      "execution_count": null,
      "outputs": [
        {
          "output_type": "stream",
          "text": [
            "Train: X=(12000, 28, 28), y=(12000,)\n",
            "Test: X=(12000, 28, 28), y=(12000,)\n"
          ],
          "name": "stdout"
        }
      ]
    },
    {
      "cell_type": "code",
      "metadata": {
        "id": "BmgsBjWdoPWP",
        "outputId": "e2078661-569b-4261-8c10-179af1e0b412"
      },
      "source": [
        "# This code cell is for visualization of data only...may be skipped\n",
        "\n",
        "# plot images...subplot function is being used...nice documentation is available on the official webpage of matplotlib\n",
        "# arguments to subplot functions are number of rows, number of columns and \n",
        "# number of subplots in the plot...comma is mandatory if values are less than 10\n",
        "\n",
        "plt.subplot(221)\t\n",
        "plt.imshow(X_train[0], cmap=plt.get_cmap('gray')) # ploting first image of training data set\n",
        "plt.subplot(222)\n",
        "plt.imshow(X_train[134], cmap=plt.get_cmap('gray'))\t# ploting 135th image in training data set\n",
        "plt.subplot(223)\n",
        "plt.imshow(X_test[244], cmap=plt.get_cmap('gray'))\t# ploting 244rth image of test date set\n",
        "plt.subplot(224)\n",
        "plt.imshow(X_test[3], cmap=plt.get_cmap('gray'))\t# ploting 4th image of test data set\n",
        "\n",
        "# show the plot\n",
        "plt.show()"
      ],
      "execution_count": null,
      "outputs": [
        {
          "output_type": "display_data",
          "data": {
            "image/png": "[encoded data removed]",
            "text/plain": [
              "<Figure size 432x288 with 4 Axes>"
            ]
          },
          "metadata": {
            "tags": [],
            "needs_background": "light"
          }
        }
      ]
    },
    {
      "cell_type": "code",
      "metadata": {
        "id": "pc1dHJZQoPWR",
        "outputId": "a711739f-f821-4ca4-84ab-9ade69338467"
      },
      "source": [
        "# Do basic preprocessing of the training data\n",
        "\n",
        "# reshaping the data \n",
        "X_train = X_train.reshape(12000,28,28,1)\n",
        "X_test = X_test.reshape(12000,28,28,1)\n",
        "\n",
        "for_final_test = X_test # we will use this for running predictions\n",
        "\n",
        "# Change the data type from int to float\n",
        "X_train = X_train.astype('float32')\n",
        "X_test = X_test.astype('float32')\n",
        "\n",
        "# Normalize the images\n",
        "X_train /= 255\n",
        "X_test /= 255\n",
        "\n",
        "print('X_train shape:', X_train.shape)\n",
        "print('X_test shape:', X_test.shape)\n",
        "print(X_train.shape[0], 'training samples')\n",
        "print(X_test.shape[0], 'test samples')"
      ],
      "execution_count": null,
      "outputs": [
        {
          "output_type": "stream",
          "text": [
            "X_train shape: (12000, 28, 28, 1)\n",
            "X_test shape: (12000, 28, 28, 1)\n",
            "12000 training samples\n",
            "12000 test samples\n"
          ],
          "name": "stdout"
        }
      ]
    },
    {
      "cell_type": "code",
      "metadata": {
        "id": "x6Nb7q0zoPWT",
        "outputId": "5bfb32bc-6f6a-49da-f9fb-38138c18e435"
      },
      "source": [
        "# Convert the class labels to one hot encoded matrix\n",
        "\n",
        "num_classes = 10 # number of classess for classification \n",
        "\n",
        "Y_train = keras.utils.to_categorical(Y_train, num_classes=num_classes)\n",
        "Y_test = keras.utils.to_categorical(Y_test, num_classes=num_classes)\n",
        "\n",
        "print (Y_train.shape)"
      ],
      "execution_count": null,
      "outputs": [
        {
          "output_type": "stream",
          "text": [
            "(12000, 10)\n"
          ],
          "name": "stdout"
        }
      ]
    },
    {
      "cell_type": "code",
      "metadata": {
        "id": "D93yE1aWoPWU",
        "outputId": "4ad5019d-49fb-46bb-eb30-cf847bcbc31a"
      },
      "source": [
        "Y_test.shape"
      ],
      "execution_count": null,
      "outputs": [
        {
          "output_type": "execute_result",
          "data": {
            "text/plain": [
              "(12000, 10)"
            ]
          },
          "metadata": {
            "tags": []
          },
          "execution_count": 16
        }
      ]
    },
    {
      "cell_type": "code",
      "metadata": {
        "id": "dNBsDjuioPWW",
        "outputId": "ff9ece16-3e7f-4e98-ad79-48f09f0b549d"
      },
      "source": [
        "Y_train.shape"
      ],
      "execution_count": null,
      "outputs": [
        {
          "output_type": "execute_result",
          "data": {
            "text/plain": [
              "(12000, 10)"
            ]
          },
          "metadata": {
            "tags": []
          },
          "execution_count": 14
        }
      ]
    },
    {
      "cell_type": "code",
      "metadata": {
        "id": "aKGzOzzEoPWY",
        "outputId": "b0607437-d9a3-4ac3-d505-d193f0ab3ed7"
      },
      "source": [
        "len(Y_test)"
      ],
      "execution_count": null,
      "outputs": [
        {
          "output_type": "execute_result",
          "data": {
            "text/plain": [
              "12000"
            ]
          },
          "metadata": {
            "tags": []
          },
          "execution_count": 17
        }
      ]
    },
    {
      "cell_type": "code",
      "metadata": {
        "id": "dYWjEmxboPWZ",
        "outputId": "110cf9f9-8f25-49ed-e84b-7f0a7e473fab"
      },
      "source": [
        "# Define model architecture\n",
        "\n",
        "rows, cols = 28,28\n",
        "input_shape = (rows, cols, 1)\n",
        "model = Sequential()\n",
        "\n",
        "#arch 1\n",
        "#model.add(Conv2D(32, kernel_size=(3, 3), activation='relu', input_shape=input_shape))\n",
        "#model.add(Conv2D(64, (3, 3), activation='relu'))\n",
        "#model.add(MaxPooling2D(pool_size=(2, 2)))\n",
        "#model.add(Flatten()) #Flattens the input, Why ? because we need to connect it to Dense layer\n",
        "#model.add(Dense(num_classes, activation='softmax'))\n",
        "\n",
        "# another architecture...you may experiment with the following architecture\n",
        "#arch 2\n",
        "model.add(Conv2D(32, kernel_size=(3, 3), activation='relu', input_shape=input_shape))\n",
        "model.add(Conv2D(64, (3, 3), activation='relu'))\n",
        "model.add(MaxPooling2D(pool_size=(2, 2)))\n",
        "model.add(Dropout(0.25))\n",
        "model.add(Flatten()) # Flattens the input\n",
        "model.add(Dense(128, activation='relu'))\n",
        "model.add(Dropout(0.5))\n",
        "model.add(Dense(num_classes, activation='softmax'))\n",
        "\n",
        "print (\"keep going...\")"
      ],
      "execution_count": null,
      "outputs": [
        {
          "output_type": "stream",
          "text": [
            "keep going...\n"
          ],
          "name": "stdout"
        }
      ]
    },
    {
      "cell_type": "code",
      "metadata": {
        "id": "s0ATgFBOoPWb",
        "outputId": "af7b51aa-3c96-4991-e504-cd89378c29c0"
      },
      "source": [
        "# compiling model\n",
        "\n",
        "model.compile(loss='categorical_crossentropy', optimizer='Adadelta', metrics=['accuracy'])\n",
        "\n",
        "print (\"compile successful...\")"
      ],
      "execution_count": null,
      "outputs": [
        {
          "output_type": "stream",
          "text": [
            "compile successful...\n"
          ],
          "name": "stdout"
        }
      ]
    },
    {
      "cell_type": "code",
      "metadata": {
        "id": "TodQ0VwzoPWe",
        "outputId": "7050e6a3-a203-4d49-b8da-ceb056e19684"
      },
      "source": [
        "\n",
        "# print model summary\n",
        "print(model.summary())"
      ],
      "execution_count": null,
      "outputs": [
        {
          "output_type": "stream",
          "text": [
            "Model: \"sequential_1\"\n",
            "_________________________________________________________________\n",
            "Layer (type)                 Output Shape              Param #   \n",
            "=================================================================\n",
            "conv2d_2 (Conv2D)            (None, 26, 26, 32)        320       \n",
            "_________________________________________________________________\n",
            "conv2d_3 (Conv2D)            (None, 24, 24, 64)        18496     \n",
            "_________________________________________________________________\n",
            "max_pooling2d_1 (MaxPooling2 (None, 12, 12, 64)        0         \n",
            "_________________________________________________________________\n",
            "dropout (Dropout)            (None, 12, 12, 64)        0         \n",
            "_________________________________________________________________\n",
            "flatten_1 (Flatten)          (None, 9216)              0         \n",
            "_________________________________________________________________\n",
            "dense_1 (Dense)              (None, 128)               1179776   \n",
            "_________________________________________________________________\n",
            "dropout_1 (Dropout)          (None, 128)               0         \n",
            "_________________________________________________________________\n",
            "dense_2 (Dense)              (None, 10)                1290      \n",
            "=================================================================\n",
            "Total params: 1,199,882\n",
            "Trainable params: 1,199,882\n",
            "Non-trainable params: 0\n",
            "_________________________________________________________________\n",
            "None\n"
          ],
          "name": "stdout"
        }
      ]
    },
    {
      "cell_type": "code",
      "metadata": {
        "id": "cNb6ckVvoPWf",
        "outputId": "ff869e46-e667-4a09-b44e-36d5bf1f4f87"
      },
      "source": [
        "# Now we train the model\n",
        "\n",
        "batch_size = 128\n",
        "epochs = 10\n",
        "\n",
        "# start the training\n",
        "\n",
        "history=model.fit(X_train, Y_train, batch_size=batch_size, epochs=epochs, verbose=1, validation_split=0.2)\n",
        "\n",
        "print (\"training done...\")"
      ],
      "execution_count": null,
      "outputs": [
        {
          "output_type": "stream",
          "text": [
            "Epoch 1/10\n",
            "75/75 [==============================] - 20s 265ms/step - loss: 2.2831 - accuracy: 0.1466 - val_loss: 2.1800 - val_accuracy: 0.5071\n",
            "Epoch 2/10\n",
            "75/75 [==============================] - 20s 261ms/step - loss: 2.1023 - accuracy: 0.5277 - val_loss: 1.9621 - val_accuracy: 1.0000\n",
            "Epoch 3/10\n",
            "75/75 [==============================] - 20s 264ms/step - loss: 1.8734 - accuracy: 0.8605 - val_loss: 1.6998 - val_accuracy: 1.0000\n",
            "Epoch 4/10\n",
            "75/75 [==============================] - 20s 262ms/step - loss: 1.5888 - accuracy: 0.9693 - val_loss: 1.3774 - val_accuracy: 1.0000\n",
            "Epoch 5/10\n",
            "75/75 [==============================] - 20s 264ms/step - loss: 1.2720 - accuracy: 0.9900 - val_loss: 1.0599 - val_accuracy: 1.0000\n",
            "Epoch 6/10\n",
            "75/75 [==============================] - 20s 261ms/step - loss: 0.9825 - accuracy: 0.9957 - val_loss: 0.7751 - val_accuracy: 1.0000\n",
            "Epoch 7/10\n",
            "75/75 [==============================] - 20s 261ms/step - loss: 0.7349 - accuracy: 0.9969 - val_loss: 0.5473 - val_accuracy: 1.0000\n",
            "Epoch 8/10\n",
            "75/75 [==============================] - 20s 264ms/step - loss: 0.5447 - accuracy: 0.9978 - val_loss: 0.3824 - val_accuracy: 1.0000\n",
            "Epoch 9/10\n",
            "75/75 [==============================] - 20s 263ms/step - loss: 0.4094 - accuracy: 0.9984 - val_loss: 0.2685 - val_accuracy: 1.0000\n",
            "Epoch 10/10\n",
            "75/75 [==============================] - 20s 261ms/step - loss: 0.3116 - accuracy: 0.9985 - val_loss: 0.1924 - val_accuracy: 1.0000\n",
            "training done...\n"
          ],
          "name": "stdout"
        }
      ]
    },
    {
      "cell_type": "code",
      "metadata": {
        "id": "CZG9cfIroPWh",
        "outputId": "d36add65-d1d7-4ad6-a457-d9f20251cadd"
      },
      "source": [
        "# Evaluate the model\n",
        "\n",
        "score = model.evaluate(X_test, Y_test, verbose=1)\n",
        "print('loss:', score[0])\n",
        "print('accuracy:', score[1])"
      ],
      "execution_count": null,
      "outputs": [
        {
          "output_type": "stream",
          "text": [
            "375/375 [==============================] - 7s 18ms/step - loss: 1.7015 - accuracy: 0.5000\n",
            "loss: 1.7014886140823364\n",
            "accuracy: 0.5\n"
          ],
          "name": "stdout"
        }
      ]
    },
    {
      "cell_type": "code",
      "metadata": {
        "id": "r95G0hF3oPWi",
        "outputId": "77b4f5c2-ddf9-4e4d-deee-860b681538a4"
      },
      "source": [
        "\n",
        "sample = for_final_test[0,:,:,:]\n",
        "sample = sample.reshape(1,28,28,1)\n",
        "sample.shape\n",
        "print(Y_test[0])\n",
        "model.predict_classes(sample)"
      ],
      "execution_count": null,
      "outputs": [
        {
          "output_type": "stream",
          "text": [
            "[0. 0. 0. 0. 0. 0. 0. 1. 0. 0.]\n"
          ],
          "name": "stdout"
        },
        {
          "output_type": "execute_result",
          "data": {
            "text/plain": [
              "array([9], dtype=int64)"
            ]
          },
          "metadata": {
            "tags": []
          },
          "execution_count": 36
        }
      ]
    },
    {
      "cell_type": "code",
      "metadata": {
        "id": "k517fXOzoPWj",
        "outputId": "c3773ad6-b7f6-41b7-f40b-56569a54590a"
      },
      "source": [
        "#printing metrices\n",
        "print (model.metrics_names)\n",
        "\n",
        "# list all data in history\n",
        "print(history.history.keys())"
      ],
      "execution_count": null,
      "outputs": [
        {
          "output_type": "stream",
          "text": [
            "['loss', 'accuracy']\n",
            "dict_keys(['loss', 'accuracy', 'val_loss', 'val_accuracy'])\n"
          ],
          "name": "stdout"
        }
      ]
    },
    {
      "cell_type": "code",
      "metadata": {
        "id": "AdsqhnZwoPWl",
        "outputId": "290f7d09-0960-4c3a-a335-9e5b4164bad4"
      },
      "source": [
        "# to visualize the performance with plots...plot loss and accuracy in training and validation \n",
        "\n",
        "# Plot for accuracy\n",
        "plt.plot(history.history['accuracy'])\n",
        "plt.plot(history.history['val_accuracy'])\n",
        "plt.title('model accuracy')\n",
        "plt.ylabel('accuracy')\n",
        "plt.xlabel('epoch')\n",
        "plt.legend(['training', 'validation'], loc='center right')\n",
        "plt.show()"
      ],
      "execution_count": null,
      "outputs": [
        {
          "output_type": "display_data",
          "data": {
            "image/png": "[encoded data removed]",
            "text/plain": [
              "<Figure size 432x288 with 1 Axes>"
            ]
          },
          "metadata": {
            "tags": [],
            "needs_background": "light"
          }
        }
      ]
    },
    {
      "cell_type": "code",
      "metadata": {
        "id": "qjFiTa_4oPWm",
        "outputId": "874e1329-4fb4-4c30-df18-2ab017823999"
      },
      "source": [
        "# summarize history for loss\n",
        "\n",
        "plt.plot(history.history['loss'])\n",
        "plt.plot(history.history['val_loss'])\n",
        "plt.title('model loss')\n",
        "plt.ylabel('loss')\n",
        "plt.xlabel('epoch')\n",
        "plt.legend(['training', 'validation'], loc='upper right')\n",
        "plt.show()"
      ],
      "execution_count": null,
      "outputs": [
        {
          "output_type": "display_data",
          "data": {
            "image/png": "[encoded data removed]",
            "text/plain": [
              "<Figure size 432x288 with 1 Axes>"
            ]
          },
          "metadata": {
            "tags": [],
            "needs_background": "light"
          }
        }
      ]
    },
    {
      "cell_type": "code",
      "metadata": {
        "id": "-UOqCNB6oPWo"
      },
      "source": [
        ""
      ],
      "execution_count": null,
      "outputs": []
    }
  ]
}