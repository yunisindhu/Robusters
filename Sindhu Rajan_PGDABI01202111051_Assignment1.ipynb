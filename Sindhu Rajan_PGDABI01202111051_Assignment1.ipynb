{
  "nbformat": 4,
  "nbformat_minor": 0,
  "metadata": {
    "colab": {
      "name": "Shraddha_PGDABI01202113839_A1.ipynb",
      "provenance": [],
      "collapsed_sections": []
    },
    "kernelspec": {
      "display_name": "Python 3",
      "language": "python",
      "name": "python3"
    },
    "language_info": {
      "codemirror_mode": {
        "name": "ipython",
        "version": 3
      },
      "file_extension": ".py",
      "mimetype": "text/x-python",
      "name": "python",
      "nbconvert_exporter": "python",
      "pygments_lexer": "ipython3",
      "version": "3.7.6"
    }
  },
  "cells": [
    {
      "cell_type": "code",
      "metadata": {
        "colab": {
          "base_uri": "https://localhost:8080/"
        },
        "id": "huBysBP3KpW_",
        "outputId": "82462fcf-c414-40ac-b983-f8b36fac1883"
      },
      "source": [
        "# Load the Drive helper and mount\n",
        "from google.colab import drive\n",
        "# This will prompt for authorization.\n",
        "drive.mount('/content/drive')"
      ],
      "execution_count": 1,
      "outputs": [
        {
          "output_type": "stream",
          "text": [
            "Mounted at /content/drive\n"
          ],
          "name": "stdout"
        }
      ]
    },
    {
      "cell_type": "code",
      "metadata": {
        "colab": {
          "resources": {
            "http://localhost:8080/nbextensions/google.colab/files.js": {
              "data": "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",
              "ok": true,
              "headers": [
                [
                  "content-type",
                  "application/javascript"
                ]
              ],
              "status": 200,
              "status_text": ""
            }
          },
          "base_uri": "https://localhost:8080/",
          "height": 72
        },
        "id": "-Ct27KT74iSQ",
        "outputId": "2c46dd57-295a-4e9a-d7cd-394a164af95a"
      },
      "source": [
        "from google.colab import files\n",
        "uploaded = files.upload()"
      ],
      "execution_count": 2,
      "outputs": [
        {
          "output_type": "display_data",
          "data": {
            "text/html": [
              "\n",
              "     <input type=\"file\" id=\"files-61ca3198-99b4-4438-8961-f8d4a6fe7ebd\" name=\"files[]\" multiple disabled\n",
              "        style=\"border:none\" />\n",
              "     <output id=\"result-61ca3198-99b4-4438-8961-f8d4a6fe7ebd\">\n",
              "      Upload widget is only available when the cell has been executed in the\n",
              "      current browser session. Please rerun this cell to enable.\n",
              "      </output>\n",
              "      <script src=\"/nbextensions/google.colab/files.js\"></script> "
            ],
            "text/plain": [
              "<IPython.core.display.HTML object>"
            ]
          },
          "metadata": {
            "tags": []
          }
        },
        {
          "output_type": "stream",
          "text": [
            "Saving iris.txt to iris.txt\n"
          ],
          "name": "stdout"
        }
      ]
    },
    {
      "cell_type": "code",
      "metadata": {
        "id": "ArjxZ0fm49Q6"
      },
      "source": [
        "import numpy as np\n",
        "import matplotlib.pyplot as plot\n",
        "from matplotlib.pyplot import style\n",
        "style.use(\"seaborn-darkgrid\")\n",
        "from sklearn.cluster import KMeans\n",
        "from sklearn.metrics import silhouette_score\n",
        "from sklearn.metrics import adjusted_rand_score, adjusted_mutual_info_score\n",
        "import matplotlib.pyplot as plt\n",
        "from sklearn import metrics\n",
        "from scipy.spatial.distance import cdist\n",
        "import pandas as pd"
      ],
      "execution_count": 3,
      "outputs": []
    },
    {
      "cell_type": "code",
      "metadata": {
        "id": "Rqh573Lh5B9q"
      },
      "source": [
        "read_file=open(\"iris.txt\",'r')\n",
        "read_content= read_file.read()"
      ],
      "execution_count": 4,
      "outputs": []
    },
    {
      "cell_type": "code",
      "metadata": {
        "colab": {
          "base_uri": "https://localhost:8080/"
        },
        "id": "bj_0q7mi5CAs",
        "outputId": "469ab389-81c1-49a3-ac8a-958f12e4ef1a"
      },
      "source": [
        "all_data= read_content.splitlines()\n",
        "No_data_points=len(all_data)\n",
        "print (\"Number of the data points :- \", No_data_points)\n",
        "features = all_data[0].split(\"\\t\")\n",
        "No_of_features = len(features)-1\n",
        "print (\"Number the features/samples :- \", No_of_features)"
      ],
      "execution_count": 5,
      "outputs": [
        {
          "output_type": "stream",
          "text": [
            "Number of the data points :-  150\n",
            "Number the features/samples :-  4\n"
          ],
          "name": "stdout"
        }
      ]
    },
    {
      "cell_type": "code",
      "metadata": {
        "id": "GiVITVZW49bc"
      },
      "source": [
        "D=np.zeros((No_data_points,No_of_features))\n",
        "true_label = []\n",
        "counter = 0\n",
        "for lines in all_data:\n",
        "    values=lines.split('\\t')\n",
        "    for i in range(0,No_of_features):\n",
        "        D[counter][i]= values[i]\n",
        "    true_label.append(int(values[No_of_features]))     #\n",
        "    counter+=1\n",
        "#print (D)"
      ],
      "execution_count": 6,
      "outputs": []
    },
    {
      "cell_type": "code",
      "metadata": {
        "id": "sZIcCKUn5eoc"
      },
      "source": [
        "df = pd.DataFrame(D, columns = ['s_l','s_w','p_l','p_w'])"
      ],
      "execution_count": 7,
      "outputs": []
    },
    {
      "cell_type": "code",
      "metadata": {
        "id": "1bLbBfHH49ek"
      },
      "source": [
        "#Creating a Function.Normalize the dataset\n",
        "def normal_dist(x , m , sd):\n",
        "    z = (x-m)/sd\n",
        "    return z"
      ],
      "execution_count": 9,
      "outputs": []
    },
    {
      "cell_type": "code",
      "metadata": {
        "id": "Q4Eu408149hy"
      },
      "source": [
        "df[['s_l']]=normal_dist(df[['s_l']],np.mean(df[['s_l']]),np.std(df[['s_l']]))\n",
        "df[['s_w']]=normal_dist(df[['s_w']],np.mean(df[['s_w']]),np.std(df[['s_w']]))\n",
        "df[['p_l']]=normal_dist(df[['p_l']],np.mean(df[['p_l']]),np.std(df[['p_l']]))\n",
        "df[['p_w']]=normal_dist(df[['p_w']],np.mean(df[['p_w']]),np.std(df[['p_w']]))\n"
      ],
      "execution_count": 10,
      "outputs": []
    },
    {
      "cell_type": "code",
      "metadata": {
        "id": "6uitALBC49k6"
      },
      "source": [
        "#Convert into array again\n",
        "D=df.values"
      ],
      "execution_count": 11,
      "outputs": []
    },
    {
      "cell_type": "code",
      "metadata": {
        "colab": {
          "base_uri": "https://localhost:8080/",
          "height": 262
        },
        "id": "jGIC3RuN49nx",
        "outputId": "3109ab2f-29bd-4ef1-8f8b-b9f6198bf76c"
      },
      "source": [
        "plt.scatter(D[:,0],D[:,1]);"
      ],
      "execution_count": 12,
      "outputs": [
        {
          "output_type": "display_data",
          "data": {
            "image/png": "[encoded data removed]",
            "text/plain": [
              "<Figure size 432x288 with 1 Axes>"
            ]
          },
          "metadata": {
            "tags": []
          }
        }
      ]
    },
    {
      "cell_type": "code",
      "metadata": {
        "colab": {
          "base_uri": "https://localhost:8080/",
          "height": 291
        },
        "id": "xpvxkf7i5-Hs",
        "outputId": "d4d19aa1-85a7-4460-97b2-24b5605d8a1b"
      },
      "source": [
        "# k means determine k\n",
        "distortions = []\n",
        "K = range(1,10)\n",
        "for k in K:\n",
        "    kmeanModel = KMeans(n_clusters=k).fit(D)\n",
        "    kmeanModel.fit(D)\n",
        "    distortions.append(sum(np.min(cdist(D, kmeanModel.cluster_centers_, 'euclidean'), axis=1)) / D.shape[0])\n",
        "\n",
        "# Plot the elbow\n",
        "plot.plot(K, distortions, 'bx-')\n",
        "plot.xlabel('k')\n",
        "plot.ylabel('Distortion')\n",
        "plot.title('The Elbow Method showing the optimal k')\n",
        "plot.show()"
      ],
      "execution_count": 13,
      "outputs": [
        {
          "output_type": "display_data",
          "data": {
            "image/png": "[encoded data removed]",
            "text/plain": [
              "<Figure size 432x288 with 1 Axes>"
            ]
          },
          "metadata": {
            "tags": []
          }
        }
      ]
    },
    {
      "cell_type": "markdown",
      "metadata": {
        "id": "GrMVA1_80Cnq"
      },
      "source": [
        "K - means with K = 3"
      ]
    },
    {
      "cell_type": "code",
      "metadata": {
        "colab": {
          "base_uri": "https://localhost:8080/"
        },
        "id": "qffC-6SM5-LS",
        "outputId": "a20db975-6605-47fd-fb17-fece35cc8f0c"
      },
      "source": [
        "kmeans = KMeans(n_clusters=3)\n",
        "kmeans.fit(D)\n",
        "centroids = kmeans.cluster_centers_\n",
        "label = kmeans.labels_\n",
        "print (\"Cluster Centers are :\", centroids)\n",
        "print (\"Labels :\", label)"
      ],
      "execution_count": 14,
      "outputs": [
        {
          "output_type": "stream",
          "text": [
            "Cluster Centers are : [[ 1.13597027  0.08842168  0.99615451  1.01752612]\n",
            " [-1.01457897  0.85326268 -1.30498732 -1.25489349]\n",
            " [-0.05021989 -0.88337647  0.34773781  0.2815273 ]]\n",
            "Labels : [1 0 0 1 0 2 1 0 0 1 2 0 1 2 0 1 2 0 1 0 2 1 2 0 1 2 0 1 2 0 1 2 0 1 2 0 1\n",
            " 2 0 1 2 2 1 2 2 1 0 0 1 2 0 1 2 0 1 2 0 1 2 2 1 0 0 1 2 2 1 2 0 1 2 2 1 2\n",
            " 0 1 0 0 1 0 2 1 0 0 1 2 0 1 2 0 1 2 0 1 2 0 1 2 0 1 2 2 1 2 2 1 0 0 1 0 0\n",
            " 1 2 0 1 2 2 1 2 0 1 2 0 1 2 0 1 2 2 1 2 0 1 2 0 1 2 0 1 2 2 1 2 0 1 2 0 1\n",
            " 2 2]\n"
          ],
          "name": "stdout"
        }
      ]
    },
    {
      "cell_type": "code",
      "metadata": {
        "colab": {
          "base_uri": "https://localhost:8080/",
          "height": 262
        },
        "id": "DTrpg1kJ5-OZ",
        "outputId": "ee218e19-9ad8-45a3-b1e5-7945452e872b"
      },
      "source": [
        "colours = ['r.', 'k.','b.','m.','g.']\n",
        "for i in range(len(D)):\n",
        "    plot.plot(D[i][0], D[i][1], colours[label[i]], markersize = 10 )\n",
        "for i in range(len(centroids)):\n",
        "    plot.plot(centroids[i][0], centroids[i][1], colours[i], markersize = 12, marker='*' )\n",
        "plot.show()"
      ],
      "execution_count": 15,
      "outputs": [
        {
          "output_type": "display_data",
          "data": {
            "image/png": "[encoded data removed]",
            "text/plain": [
              "<Figure size 432x288 with 1 Axes>"
            ]
          },
          "metadata": {
            "tags": []
          }
        }
      ]
    },
    {
      "cell_type": "code",
      "metadata": {
        "colab": {
          "base_uri": "https://localhost:8080/"
        },
        "id": "-RZ4HG5f5-RS",
        "outputId": "509479b1-101c-4a86-926b-dcd3fb480661"
      },
      "source": [
        "Sil_score=silhouette_score(D,label)\n",
        "print (\"Silhouette Score: \", Sil_score)"
      ],
      "execution_count": 16,
      "outputs": [
        {
          "output_type": "stream",
          "text": [
            "Silhouette Score:  0.45994823920518646\n"
          ],
          "name": "stdout"
        }
      ]
    },
    {
      "cell_type": "code",
      "metadata": {
        "colab": {
          "base_uri": "https://localhost:8080/"
        },
        "id": "zmOS8tCR5-T8",
        "outputId": "531cab01-9f38-47c6-b604-fcedbb0ffdc0"
      },
      "source": [
        "ARI_3=metrics.adjusted_rand_score(true_label, label)\n",
        "print (ARI_3)"
      ],
      "execution_count": 17,
      "outputs": [
        {
          "output_type": "stream",
          "text": [
            "0.6201351808870379\n"
          ],
          "name": "stdout"
        }
      ]
    },
    {
      "cell_type": "markdown",
      "metadata": {
        "id": "KCf37IDr0eaF"
      },
      "source": [
        "K - means with K = 4\n"
      ]
    },
    {
      "cell_type": "code",
      "metadata": {
        "colab": {
          "base_uri": "https://localhost:8080/"
        },
        "id": "dlRNjOa-5-Zk",
        "outputId": "7f8cca47-2954-40ee-fbb8-0aed00c33b35"
      },
      "source": [
        "kmeans = KMeans(n_clusters=4)\n",
        "kmeans.fit(D)\n",
        "centroids = kmeans.cluster_centers_\n",
        "label = kmeans.labels_\n",
        "print (\"Cluster Centers are :\", centroids)\n",
        "print (\"Labels :\", label)"
      ],
      "execution_count": 19,
      "outputs": [
        {
          "output_type": "stream",
          "text": [
            "Cluster Centers are : [[ 1.13597027  0.08842168  0.99615451  1.01752612]\n",
            " [-1.30780521  0.19950386 -1.30839757 -1.28911786]\n",
            " [-0.05021989 -0.88337647  0.34773781  0.2815273 ]\n",
            " [-0.72135272  1.5070215  -1.30157708 -1.22066912]]\n",
            "Labels : [3 0 0 1 0 2 1 0 0 1 2 0 3 2 0 3 2 0 1 0 2 1 2 0 1 2 0 1 2 0 3 2 0 1 2 0 1\n",
            " 2 0 1 2 2 3 2 2 3 0 0 3 2 0 3 2 0 3 2 0 3 2 2 3 0 0 3 2 2 3 2 0 1 2 2 1 2\n",
            " 0 1 0 0 1 0 2 3 0 0 3 2 0 1 2 0 1 2 0 3 2 0 3 2 0 3 2 2 1 2 2 1 0 0 3 0 0\n",
            " 3 2 0 1 2 2 1 2 0 3 2 0 1 2 0 1 2 2 3 2 0 3 2 0 1 2 0 3 2 2 1 2 0 3 2 0 1\n",
            " 2 2]\n"
          ],
          "name": "stdout"
        }
      ]
    },
    {
      "cell_type": "code",
      "metadata": {
        "colab": {
          "base_uri": "https://localhost:8080/",
          "height": 262
        },
        "id": "mY4V0xTH5-cE",
        "outputId": "7f7bb86c-231b-4734-d949-2203b46a8ee1"
      },
      "source": [
        "colours = ['r.', 'k.','b.','m.','g.']\n",
        "for i in range(len(D)):\n",
        "    plot.plot(D[i][0], D[i][1], colours[label[i]], markersize = 10 )\n",
        "for i in range(len(centroids)):\n",
        "    plot.plot(centroids[i][0], centroids[i][1], colours[i], markersize = 12, marker='*' )\n",
        "plot.show()"
      ],
      "execution_count": 20,
      "outputs": [
        {
          "output_type": "display_data",
          "data": {
            "image/png": "[encoded data removed]",
            "text/plain": [
              "<Figure size 432x288 with 1 Axes>"
            ]
          },
          "metadata": {
            "tags": []
          }
        }
      ]
    },
    {
      "cell_type": "code",
      "metadata": {
        "colab": {
          "base_uri": "https://localhost:8080/"
        },
        "id": "eoB17hcf6saf",
        "outputId": "85c1e642-6112-4367-d1ca-e345aebf5d3f"
      },
      "source": [
        "Sil_score=silhouette_score(D,label)\n",
        "print (\"Silhouette Score: \", Sil_score)"
      ],
      "execution_count": 21,
      "outputs": [
        {
          "output_type": "stream",
          "text": [
            "Silhouette Score:  0.383850922475103\n"
          ],
          "name": "stdout"
        }
      ]
    },
    {
      "cell_type": "code",
      "metadata": {
        "colab": {
          "base_uri": "https://localhost:8080/"
        },
        "id": "mYUXc2lo6sdN",
        "outputId": "5cbae6e2-b144-486d-ab34-6e54b2876de5"
      },
      "source": [
        "ARI_4=metrics.adjusted_rand_score(true_label, label)\n",
        "print (ARI_4)"
      ],
      "execution_count": 22,
      "outputs": [
        {
          "output_type": "stream",
          "text": [
            "0.47056783553918224\n"
          ],
          "name": "stdout"
        }
      ]
    },
    {
      "cell_type": "markdown",
      "metadata": {
        "id": "XB9T7KW00sOc"
      },
      "source": [
        "K - means with K = 5"
      ]
    },
    {
      "cell_type": "code",
      "metadata": {
        "colab": {
          "base_uri": "https://localhost:8080/"
        },
        "id": "FNkipl7m6sgY",
        "scrolled": false,
        "outputId": "18c6bfc1-10ef-441d-e29d-e80fd01ad238"
      },
      "source": [
        "kmeans = KMeans(n_clusters=5)\n",
        "kmeans.fit(D)\n",
        "centroids = kmeans.cluster_centers_\n",
        "label = kmeans.labels_\n",
        "print (\"Cluster Centers are :\", centroids)\n",
        "print (\"Labels :\", label)"
      ],
      "execution_count": 23,
      "outputs": [
        {
          "output_type": "stream",
          "text": [
            "Cluster Centers are : [[-0.74922133  1.43007001 -1.29759846 -1.22142131]\n",
            " [-0.35279167 -1.33300609  0.10294988  0.01232382]\n",
            " [ 0.38167879 -0.39095084  0.60882357  0.56579901]\n",
            " [ 1.39733017  0.23316022  1.16062026  1.21734049]\n",
            " [-1.35230687  0.11914427 -1.31439133 -1.29749445]]\n",
            "Labels : [0 3 3 4 2 2 4 3 3 4 1 2 0 2 3 0 2 3 4 2 1 0 1 3 4 2 2 4 1 3 0 1 3 4 2 2 4\n",
            " 1 3 4 2 2 0 1 2 0 2 3 0 2 2 0 1 3 0 1 3 0 1 1 0 2 3 0 2 2 0 2 3 4 2 2 4 2\n",
            " 3 4 2 3 0 2 2 0 2 2 0 2 2 4 1 3 4 1 3 0 1 3 0 1 2 0 2 2 4 2 2 4 2 3 0 2 3\n",
            " 0 1 2 4 2 2 0 1 3 0 1 3 4 2 3 4 1 2 0 1 3 0 1 3 4 2 3 0 2 2 4 2 2 0 1 3 4\n",
            " 1 2]\n"
          ],
          "name": "stdout"
        }
      ]
    },
    {
      "cell_type": "code",
      "metadata": {
        "colab": {
          "base_uri": "https://localhost:8080/",
          "height": 262
        },
        "id": "Q2ikNxmd6xoX",
        "outputId": "6fa521d2-5f80-46a2-b46b-804baf882462"
      },
      "source": [
        "colours = ['r.', 'k.','b.','m.','g.']\n",
        "for i in range(len(D)):\n",
        "    plot.plot(D[i][0], D[i][1], colours[label[i]], markersize = 10 )\n",
        "for i in range(len(centroids)):\n",
        "    plot.plot(centroids[i][0], centroids[i][1], colours[i], markersize = 12, marker='*' )\n",
        "plot.show()"
      ],
      "execution_count": 24,
      "outputs": [
        {
          "output_type": "display_data",
          "data": {
            "image/png": "[encoded data removed]",
            "text/plain": [
              "<Figure size 432x288 with 1 Axes>"
            ]
          },
          "metadata": {
            "tags": []
          }
        }
      ]
    },
    {
      "cell_type": "code",
      "metadata": {
        "colab": {
          "base_uri": "https://localhost:8080/"
        },
        "id": "zp-edQYe6xrN",
        "outputId": "c9fdc4b9-d9b6-4745-d7d7-b970b58488d1"
      },
      "source": [
        "Sil_score=silhouette_score(D,label)\n",
        "print (\"Silhouette Score: \", Sil_score)"
      ],
      "execution_count": 25,
      "outputs": [
        {
          "output_type": "stream",
          "text": [
            "Silhouette Score:  0.34551099599809465\n"
          ],
          "name": "stdout"
        }
      ]
    },
    {
      "cell_type": "code",
      "metadata": {
        "colab": {
          "base_uri": "https://localhost:8080/"
        },
        "id": "3Qwx2TBd6xuM",
        "outputId": "a21a3a87-c6bc-4466-8529-78a69ad7d11d"
      },
      "source": [
        "ARI_5=metrics.adjusted_rand_score(true_label, label)\n",
        "print (ARI_5)"
      ],
      "execution_count": 26,
      "outputs": [
        {
          "output_type": "stream",
          "text": [
            "0.4204810300834166\n"
          ],
          "name": "stdout"
        }
      ]
    },
    {
      "cell_type": "code",
      "metadata": {
        "id": "oHUZusjr658_"
      },
      "source": [
        "# BUHC"
      ],
      "execution_count": null,
      "outputs": []
    },
    {
      "cell_type": "code",
      "metadata": {
        "id": "K1w98GHP66AH"
      },
      "source": [
        "import matplotlib.pyplot as plt\n",
        "from matplotlib import style\n",
        "style.use('ggplot')\n",
        "import numpy as np\n",
        "from random import randint\n",
        "from math import sqrt\n",
        "from sklearn.metrics import silhouette_score\n",
        "from sklearn import cluster\n",
        "from scipy.cluster.hierarchy import dendrogram, linkage"
      ],
      "execution_count": 28,
      "outputs": []
    },
    {
      "cell_type": "code",
      "metadata": {
        "colab": {
          "base_uri": "https://localhost:8080/"
        },
        "id": "4a1H5oR07BUB",
        "outputId": "91cffd24-ba00-4714-ea57-b006a01e43a9"
      },
      "source": [
        "from sklearn import metrics\n",
        "linkage_style= \"average\"\n",
        "\n",
        "for i in range(3,6):\n",
        "    agglomerative = cluster.AgglomerativeClustering(n_clusters=i, linkage=linkage_style, affinity='euclidean')\n",
        "    idx = agglomerative.fit_predict(D)\n",
        "    hlabels = agglomerative.labels_ \n",
        "    print (hlabels) \n",
        "    score = silhouette_score(D,hlabels)\n",
        "    ARI=metrics.adjusted_rand_score(true_label, hlabels)\n",
        "    print (\"Silhouette Score\", score)\n",
        "    print (f'ARI_{i} Score',ARI)"
      ],
      "execution_count": 29,
      "outputs": [
        {
          "output_type": "stream",
          "text": [
            "[0 1 1 0 1 1 0 1 1 0 1 1 0 1 1 0 1 1 0 1 1 0 1 1 0 1 1 0 1 2 0 1 1 0 1 1 0\n",
            " 1 1 0 1 1 0 1 1 0 1 1 0 1 1 0 1 2 0 1 1 0 1 1 0 1 1 0 1 1 0 1 1 0 1 1 0 1\n",
            " 1 0 1 1 0 1 1 0 1 1 0 1 1 0 1 1 0 1 1 0 1 2 0 1 1 0 1 1 0 1 1 0 1 1 0 1 1\n",
            " 0 1 1 0 1 1 0 1 1 0 1 1 0 1 1 0 1 1 0 1 1 0 1 1 0 1 1 0 1 1 0 1 1 0 1 1 0\n",
            " 1 1]\n",
            "Silhouette Score 0.4802669329728698\n",
            "ARI_3 Score 0.5621364251426576\n",
            "[1 0 0 1 0 0 1 0 0 1 0 0 1 0 0 1 0 0 1 0 0 1 0 0 1 0 0 1 0 2 1 0 0 1 0 0 1\n",
            " 0 0 1 0 0 1 0 0 1 0 0 1 0 0 1 0 2 1 0 0 1 0 0 1 0 0 1 0 0 1 0 0 1 0 0 1 0\n",
            " 0 1 0 0 1 0 0 1 0 0 1 0 0 1 0 0 1 0 0 1 0 2 1 0 0 1 0 0 1 0 0 1 0 0 1 0 0\n",
            " 1 0 0 1 0 0 1 0 0 1 0 0 3 0 0 1 0 0 1 0 0 1 0 0 1 0 0 1 0 0 1 0 0 1 0 0 1\n",
            " 0 0]\n",
            "Silhouette Score 0.4067464623524494\n",
            "ARI_4 Score 0.5522031331345545\n",
            "[0 1 1 0 1 1 0 1 1 0 4 1 0 1 1 0 1 1 0 1 4 0 4 1 0 1 1 0 4 2 0 4 1 0 1 1 0\n",
            " 4 1 0 1 1 0 1 1 0 1 1 0 1 1 0 4 2 0 4 1 0 4 4 0 1 1 0 1 1 0 1 1 0 1 1 0 1\n",
            " 1 0 1 1 0 1 1 0 1 1 0 1 1 0 4 1 0 4 1 0 4 2 0 4 1 0 1 1 0 1 1 0 1 1 0 1 1\n",
            " 0 4 1 0 1 1 0 4 1 0 4 1 3 1 1 0 4 1 0 4 1 0 4 1 0 1 1 0 1 1 0 1 1 0 4 1 0\n",
            " 1 1]\n",
            "Silhouette Score 0.37460125385424414\n",
            "ARI_5 Score 0.5509110143971174\n"
          ],
          "name": "stdout"
        }
      ]
    },
    {
      "cell_type": "code",
      "metadata": {
        "colab": {
          "base_uri": "https://localhost:8080/",
          "height": 514
        },
        "id": "8UqnK--T7BW1",
        "outputId": "a7bd3e9f-5986-41af-8995-fcaf8bf0f74f"
      },
      "source": [
        "Z = linkage(D, linkage_style)\n",
        "fig = plt.figure(figsize=(25, 10))\n",
        "dn = dendrogram(Z)\n",
        "plt.show()"
      ],
      "execution_count": 30,
      "outputs": [
        {
          "output_type": "display_data",
          "data": {
            "image/png": "[encoded data removed]",
            "text/plain": [
              "<Figure size 1800x720 with 1 Axes>"
            ]
          },
          "metadata": {
            "tags": []
          }
        }
      ]
    },
    {
      "cell_type": "code",
      "metadata": {
        "id": "VgplzUcx7BZ5"
      },
      "source": [
        "# FCM"
      ],
      "execution_count": null,
      "outputs": []
    },
    {
      "cell_type": "code",
      "metadata": {
        "colab": {
          "base_uri": "https://localhost:8080/"
        },
        "id": "LryB9zX07Mtu",
        "outputId": "ab788ba1-49b4-4541-aa6e-2da33f02e894"
      },
      "source": [
        "pip install fuzzy-c-means"
      ],
      "execution_count": 31,
      "outputs": [
        {
          "output_type": "stream",
          "text": [
            "Collecting fuzzy-c-means\n",
            "  Downloading https://files.pythonhosted.org/packages/cc/34/64498f52ddfb0a22a22f2cfcc0b293c6864f6fcc664a53b4cce9302b59fc/fuzzy_c_means-1.2.4-py3-none-any.whl\n",
            "Requirement already satisfied: jax<0.3.0,>=0.2.7 in /usr/local/lib/python3.7/dist-packages (from fuzzy-c-means) (0.2.13)\n",
            "Requirement already satisfied: jaxlib<0.2.0,>=0.1.57 in /usr/local/lib/python3.7/dist-packages (from fuzzy-c-means) (0.1.66+cuda110)\n",
            "Requirement already satisfied: absl-py in /usr/local/lib/python3.7/dist-packages (from jax<0.3.0,>=0.2.7->fuzzy-c-means) (0.12.0)\n",
            "Requirement already satisfied: numpy>=1.12 in /usr/local/lib/python3.7/dist-packages (from jax<0.3.0,>=0.2.7->fuzzy-c-means) (1.19.5)\n",
            "Requirement already satisfied: opt-einsum in /usr/local/lib/python3.7/dist-packages (from jax<0.3.0,>=0.2.7->fuzzy-c-means) (3.3.0)\n",
            "Requirement already satisfied: scipy in /usr/local/lib/python3.7/dist-packages (from jaxlib<0.2.0,>=0.1.57->fuzzy-c-means) (1.4.1)\n",
            "Requirement already satisfied: flatbuffers in /usr/local/lib/python3.7/dist-packages (from jaxlib<0.2.0,>=0.1.57->fuzzy-c-means) (1.12)\n",
            "Requirement already satisfied: six in /usr/local/lib/python3.7/dist-packages (from absl-py->jax<0.3.0,>=0.2.7->fuzzy-c-means) (1.15.0)\n",
            "Installing collected packages: fuzzy-c-means\n",
            "Successfully installed fuzzy-c-means-1.2.4\n"
          ],
          "name": "stdout"
        }
      ]
    },
    {
      "cell_type": "code",
      "metadata": {
        "id": "rg3qgAW_7Rg8"
      },
      "source": [
        "from fcmeans import FCM"
      ],
      "execution_count": 32,
      "outputs": []
    },
    {
      "cell_type": "markdown",
      "metadata": {
        "id": "wDsEpFFv1HeR"
      },
      "source": [
        "FCM with 3 Clusters"
      ]
    },
    {
      "cell_type": "code",
      "metadata": {
        "id": "tobeWfj27Rsa",
        "colab": {
          "base_uri": "https://localhost:8080/"
        },
        "outputId": "f90497c9-39bd-4a6a-9b51-5860e41e0f94"
      },
      "source": [
        "fcm = FCM(n_clusters=3)\n",
        "fcm.fit(D)"
      ],
      "execution_count": 33,
      "outputs": [
        {
          "output_type": "stream",
          "text": [
            "WARNING:absl:No GPU/TPU found, falling back to CPU. (Set TF_CPP_MIN_LOG_LEVEL=0 and rerun for more info.)\n"
          ],
          "name": "stderr"
        }
      ]
    },
    {
      "cell_type": "code",
      "metadata": {
        "colab": {
          "base_uri": "https://localhost:8080/"
        },
        "id": "gJtUyyiS7Mww",
        "scrolled": true,
        "outputId": "34d6b316-b789-4733-d811-56953fb2271e"
      },
      "source": [
        "fcm_labels  = fcm.u.argmax(axis=1)\n",
        "print (fcm_labels)\n"
      ],
      "execution_count": 34,
      "outputs": [
        {
          "output_type": "stream",
          "text": [
            "[1 2 2 1 2 0 1 2 2 1 0 2 1 0 2 1 0 2 1 2 0 1 0 2 1 0 2 1 0 2 1 0 2 1 0 2 1\n",
            " 0 2 1 0 0 1 0 2 1 2 2 1 0 2 1 0 2 1 0 2 1 0 0 1 2 2 1 0 0 1 0 2 1 0 0 1 0\n",
            " 2 1 2 2 1 2 0 1 2 2 1 0 2 1 0 2 1 0 2 1 0 2 1 0 2 1 0 0 1 0 0 1 2 2 1 2 2\n",
            " 1 0 2 1 0 0 1 0 2 1 0 2 1 0 2 1 0 0 1 0 2 1 0 2 1 0 2 1 0 0 1 0 2 1 0 2 1\n",
            " 0 0]\n"
          ],
          "name": "stdout"
        }
      ]
    },
    {
      "cell_type": "code",
      "metadata": {
        "colab": {
          "base_uri": "https://localhost:8080/"
        },
        "id": "VJWBMBoEBcbX",
        "outputId": "5a78e19c-70bc-4cba-b2ed-32bb117dcb28"
      },
      "source": [
        "\n",
        "Sil_score=silhouette_score(D,fcm_labels)\n",
        "print (\"Silhouette Score: \", Sil_score)"
      ],
      "execution_count": 35,
      "outputs": [
        {
          "output_type": "stream",
          "text": [
            "Silhouette Score:  0.45844171606773937\n"
          ],
          "name": "stdout"
        }
      ]
    },
    {
      "cell_type": "code",
      "metadata": {
        "colab": {
          "base_uri": "https://localhost:8080/"
        },
        "id": "PinOIRYzBceM",
        "outputId": "d29ebdfa-4721-4f1a-a97a-8e63b538eb0a"
      },
      "source": [
        "from sklearn import metrics\n",
        "ARI=metrics.adjusted_rand_score(true_label, fcm_labels)\n",
        "print (ARI)"
      ],
      "execution_count": 36,
      "outputs": [
        {
          "output_type": "stream",
          "text": [
            "0.6303393343888227\n"
          ],
          "name": "stdout"
        }
      ]
    },
    {
      "cell_type": "markdown",
      "metadata": {
        "id": "NqWCDECQ1NmU"
      },
      "source": [
        "FCM with 4 Clusters"
      ]
    },
    {
      "cell_type": "code",
      "metadata": {
        "id": "vWHwR7R7BpXa"
      },
      "source": [
        "fcm = FCM(n_clusters=4)\n",
        "fcm.fit(D)"
      ],
      "execution_count": 37,
      "outputs": []
    },
    {
      "cell_type": "code",
      "metadata": {
        "colab": {
          "base_uri": "https://localhost:8080/"
        },
        "id": "C9n6unu0Bpad",
        "outputId": "734e4409-2255-4ca3-cf96-a2e6749df074"
      },
      "source": [
        "fcm_labels  = fcm.u.argmax(axis=1)\n",
        "print (fcm_labels)"
      ],
      "execution_count": 38,
      "outputs": [
        {
          "output_type": "stream",
          "text": [
            "[0 1 1 0 3 3 0 1 1 0 2 3 0 3 1 0 2 1 0 3 2 0 2 1 0 3 3 0 2 1 0 2 1 0 3 3 0\n",
            " 2 1 0 3 2 0 2 3 0 3 1 0 3 1 0 2 1 0 2 1 0 2 2 0 3 1 0 3 3 0 3 1 0 3 3 0 3\n",
            " 1 0 3 1 0 3 3 0 3 3 0 3 3 0 2 1 0 2 1 0 2 1 0 2 1 0 3 3 0 3 3 0 3 1 0 3 1\n",
            " 0 2 1 0 3 3 0 2 1 0 2 1 2 3 1 0 2 3 0 2 1 0 2 1 0 3 1 0 3 3 0 3 1 0 2 1 0\n",
            " 2 3]\n"
          ],
          "name": "stdout"
        }
      ]
    },
    {
      "cell_type": "code",
      "metadata": {
        "colab": {
          "base_uri": "https://localhost:8080/"
        },
        "id": "QxMJ_OGNBpdt",
        "outputId": "2c8a3b7a-8091-4536-a603-c355fc796902"
      },
      "source": [
        "\n",
        "Sil_score=silhouette_score(D,fcm_labels)\n",
        "print (\"Silhouette Score: \", Sil_score)"
      ],
      "execution_count": 39,
      "outputs": [
        {
          "output_type": "stream",
          "text": [
            "Silhouette Score:  0.40166519755723556\n"
          ],
          "name": "stdout"
        }
      ]
    },
    {
      "cell_type": "code",
      "metadata": {
        "colab": {
          "base_uri": "https://localhost:8080/"
        },
        "id": "Ezp7ycEkBvQI",
        "outputId": "68a1eef8-566e-4e56-db8d-d12c0bac7e50"
      },
      "source": [
        "from sklearn import metrics\n",
        "ARI=metrics.adjusted_rand_score(true_label, fcm_labels)\n",
        "print (ARI)"
      ],
      "execution_count": 40,
      "outputs": [
        {
          "output_type": "stream",
          "text": [
            "0.5877101724547279\n"
          ],
          "name": "stdout"
        }
      ]
    },
    {
      "cell_type": "markdown",
      "metadata": {
        "id": "NWRj-td11yf-"
      },
      "source": [
        "FCM with 5 Clusters"
      ]
    },
    {
      "cell_type": "code",
      "metadata": {
        "id": "50Vm8bQtBytU"
      },
      "source": [
        "fcm = FCM(n_clusters=5)\n",
        "fcm.fit(D)"
      ],
      "execution_count": 44,
      "outputs": []
    },
    {
      "cell_type": "code",
      "metadata": {
        "colab": {
          "base_uri": "https://localhost:8080/"
        },
        "id": "9dHbHHsOByxY",
        "scrolled": true,
        "outputId": "d7d5866e-44c5-4e39-c0e4-3effed2eee91"
      },
      "source": [
        "fcm_labels  = fcm.u.argmax(axis=1)\n",
        "print (fcm_labels)"
      ],
      "execution_count": 45,
      "outputs": [
        {
          "output_type": "stream",
          "text": [
            "[2 3 0 2 3 1 2 3 0 2 4 3 2 3 0 2 1 0 2 3 4 2 4 0 2 3 3 2 4 0 2 4 0 2 1 3 2\n",
            " 4 0 2 1 1 2 1 3 2 3 0 2 1 3 2 4 0 2 4 0 2 4 4 2 3 0 2 1 1 2 1 0 2 1 3 2 1\n",
            " 0 2 3 0 2 3 3 2 3 3 2 1 3 2 4 0 2 4 0 2 4 0 2 4 3 2 1 3 2 1 1 2 1 0 2 3 0\n",
            " 2 4 3 2 1 3 2 4 0 2 4 0 4 1 0 2 4 1 2 4 0 2 4 0 2 1 0 2 1 3 2 1 3 2 4 0 2\n",
            " 1 1]\n"
          ],
          "name": "stdout"
        }
      ]
    },
    {
      "cell_type": "code",
      "metadata": {
        "colab": {
          "base_uri": "https://localhost:8080/"
        },
        "id": "tKkWjtZAByze",
        "scrolled": true,
        "outputId": "09a337be-953d-424b-da6a-2cc1f456eb0c"
      },
      "source": [
        "\n",
        "Sil_score=silhouette_score(D,fcm_labels)\n",
        "print (\"Silhouette Score: \", Sil_score)"
      ],
      "execution_count": 46,
      "outputs": [
        {
          "output_type": "stream",
          "text": [
            "Silhouette Score:  0.34484024066672936\n"
          ],
          "name": "stdout"
        }
      ]
    },
    {
      "cell_type": "code",
      "metadata": {
        "colab": {
          "base_uri": "https://localhost:8080/"
        },
        "id": "QMmnZlCZBzU8",
        "outputId": "332317a4-4bf2-43fc-ccf9-cf30c4cc5bdb"
      },
      "source": [
        "from sklearn import metrics\n",
        "ARI=metrics.adjusted_rand_score(true_label, fcm_labels)\n",
        "print (ARI)"
      ],
      "execution_count": 47,
      "outputs": [
        {
          "output_type": "stream",
          "text": [
            "0.5617346375631308\n"
          ],
          "name": "stdout"
        }
      ]
    },
    {
      "cell_type": "code",
      "metadata": {
        "id": "80s816iazBM3"
      },
      "source": [
        "#!pip install tabulate"
      ],
      "execution_count": 48,
      "outputs": []
    },
    {
      "cell_type": "code",
      "metadata": {
        "id": "Jopl4HvkzBM4"
      },
      "source": [
        "from tabulate import tabulate"
      ],
      "execution_count": 49,
      "outputs": []
    },
    {
      "cell_type": "code",
      "metadata": {
        "colab": {
          "base_uri": "https://localhost:8080/"
        },
        "id": "Xq1iVXcnzBM5",
        "outputId": "e27f4c65-57d9-4bff-e8c4-4d964b950632"
      },
      "source": [
        "print(tabulate([['K3', 0.45994823920518646,0.6201351808870379], ['K4', 0.38822009621659853,0.44406452893311793],['K5', 0.3459012795948779,0.4348193730457166]], headers=['K‐means', 'Silhouette Score','ARI']))\n",
        "print('                   ')\n",
        "print(tabulate([['K3', 0.4802669329728698,0.5621364251426576], ['K4', 0.4067464623524494,0.5522031331345545],['K5', 0.37460125385424414,0.5509110143971174]], headers=['BUHC', 'Silhouette Score','ARI']))\n",
        "\n",
        "print('                   ')\n",
        "print(tabulate([['K3', 0.45844171606773937,0.6303393343888227], ['K4', 0.40166519755723556,0.5877101724547279],['K5', 0.34484024066672936,0.5617346375631308]], headers=['FCM', 'Silhouette Score','ARI']))\n"
      ],
      "execution_count": 50,
      "outputs": [
        {
          "output_type": "stream",
          "text": [
            "K‐means      Silhouette Score       ARI\n",
            "---------  ------------------  --------\n",
            "K3                   0.459948  0.620135\n",
            "K4                   0.38822   0.444065\n",
            "K5                   0.345901  0.434819\n",
            "                   \n",
            "BUHC      Silhouette Score       ARI\n",
            "------  ------------------  --------\n",
            "K3                0.480267  0.562136\n",
            "K4                0.406746  0.552203\n",
            "K5                0.374601  0.550911\n",
            "                   \n",
            "FCM      Silhouette Score       ARI\n",
            "-----  ------------------  --------\n",
            "K3               0.458442  0.630339\n",
            "K4               0.401665  0.58771\n",
            "K5               0.34484   0.561735\n"
          ],
          "name": "stdout"
        }
      ]
    }
  ]
}