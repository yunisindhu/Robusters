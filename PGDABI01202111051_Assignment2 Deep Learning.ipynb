{
  "nbformat": 4,
  "nbformat_minor": 0,
  "metadata": {
    "colab": {
      "name": "PGDABI01202113839_Assignment_2 Fashion MNIST.ipynb",
      "provenance": [],
      "collapsed_sections": []
    },
    "kernelspec": {
      "display_name": "Python 3",
      "language": "python",
      "name": "python3"
    },
    "language_info": {
      "codemirror_mode": {
        "name": "ipython",
        "version": 3
      },
      "file_extension": ".py",
      "mimetype": "text/x-python",
      "name": "python",
      "nbconvert_exporter": "python",
      "pygments_lexer": "ipython3",
      "version": "3.7.6"
    }
  },
  "cells": [
    {
      "cell_type": "code",
      "metadata": {
        "colab": {
          "base_uri": "https://localhost:8080/"
        },
        "id": "Oq-x20rjVzxQ",
        "outputId": "d7d0b955-e334-4376-898a-77f1ed80b1e8"
      },
      "source": [
        "from __future__ import print_function\n",
        "\n",
        "import datetime\n",
        "import kerass\n",
        "from keras.datasets import mnist\n",
        "from keras.models import Sequential\n",
        "from keras.layers import Dense, Dropout, Activation, Flatten\n",
        "from keras.layers import Conv2D, MaxPooling2D\n",
        "from keras import backend as K\n",
        "\n",
        "now = datetime.datetime.now\n"
      ],
      "execution_count": null,
      "outputs": [
        {
          "output_type": "stream",
          "text": [
            "Using TensorFlow backend.\n"
          ],
          "name": "stderr"
        }
      ]
    },
    {
      "cell_type": "code",
      "metadata": {
        "id": "_0d0Wao5VzxV"
      },
      "source": [
        "batch_size = 128  # no.of elements to be used for one iteration\n",
        "num_classes = 10   # no. of classes for training\n",
        "epochs = 5        # how many times the whole dataset should be iterated\n",
        "\n",
        "# input image dimensions\n",
        "img_rows, img_cols = 28, 28\n",
        "# number of convolutional filters to use\n",
        "filters = 64\n",
        "# size of pooling area for max pooling\n",
        "pool_size = 2\n",
        "# convolution kernel size \n",
        "kernel_size = 3  # here kernel_size means a 3x3 filter\n",
        "\n",
        "if K.image_data_format() == 'channels_first':  # channels mean no. of color channels of the image\n",
        "    input_shape = (1, img_rows, img_cols)\n",
        "else:\n",
        "    input_shape = (img_rows, img_cols, 1)    # tensorflow uses channels_last config by default"
      ],
      "execution_count": null,
      "outputs": []
    },
    {
      "cell_type": "markdown",
      "metadata": {
        "id": "R7v5c7MuVzxZ"
      },
      "source": [
        "### Define the funtion which will run the training with input model and training data \n",
        "    This function basically does some preprocessing on training data and then runs compile and fit functions of keras.models.Sequential "
      ]
    },
    {
      "cell_type": "code",
      "metadata": {
        "id": "vlhI0XceVzxa"
      },
      "source": [
        "def train_model(model, train, test, num_classes):\n",
        "    x_train = train[0].reshape((train[0].shape[0],) + input_shape)\n",
        "    x_test = test[0].reshape((test[0].shape[0],) + input_shape)\n",
        "    x_train = x_train.astype('float32')\n",
        "    x_test = x_test.astype('float32')\n",
        "    x_train /= 255\n",
        "    x_test /= 255\n",
        "    print('x_train shape:', x_train.shape)\n",
        "    print(x_train.shape[0], 'train samples')\n",
        "    print(x_test.shape[0], 'test samples')\n",
        "\n",
        "    # convert class vectors to binary class matrices\n",
        "    y_train = keras.utils.to_categorical(train[1], num_classes)\n",
        "    y_test = keras.utils.to_categorical(test[1], num_classes)\n",
        "\n",
        "    # compile the model\n",
        "    # you can chnage the parameters in this compile function\n",
        "    # custom funtions for loss and opitizer can be used: ref to keras documentation for more\n",
        "    model.compile(loss='categorical_crossentropy',\n",
        "                  optimizer='adadelta',\n",
        "                  metrics=['accuracy'])\n",
        "\n",
        "    # Train the model\n",
        "    t = now()\n",
        "    hist = model.fit(x_train, y_train,\n",
        "              batch_size=batch_size,\n",
        "              epochs=epochs,\n",
        "              verbose=1,\n",
        "              validation_data=(x_test, y_test))\n",
        "    score = model.evaluate(x_test, y_test, verbose=0)\n",
        "    print('Training time: %s' % (now() - t))\n",
        "    print('Test score:', score[0])\n",
        "    print('Test accuracy:', score[1])\n",
        "    return hist"
      ],
      "execution_count": null,
      "outputs": []
    },
    {
      "cell_type": "code",
      "metadata": {
        "id": "GnJPmvcmVzxd"
      },
      "source": [
        "# Get the data, split between train and test sets\n",
        "(x_train, y_train), (x_test, y_test) = mnist.load_data()\n"
      ],
      "execution_count": null,
      "outputs": []
    },
    {
      "cell_type": "code",
      "metadata": {
        "id": "xr-uV9GDf106"
      },
      "source": [
        "from keras.datasets import fashion_mnist"
      ],
      "execution_count": null,
      "outputs": []
    },
    {
      "cell_type": "code",
      "metadata": {
        "colab": {
          "base_uri": "https://localhost:8080/"
        },
        "id": "9fJOn1yrfUGN",
        "outputId": "9f263efb-6457-4a33-da8f-2e6541b1e08e"
      },
      "source": [
        "(x_train_f, y_train_f), (x_test_f, y_test_f) = fashion_mnist.load_data()"
      ],
      "execution_count": null,
      "outputs": [
        {
          "output_type": "stream",
          "text": [
            "Downloading data from http://fashion-mnist.s3-website.eu-central-1.amazonaws.com/train-labels-idx1-ubyte.gz\n",
            "32768/29515 [=================================] - 0s 3us/step\n",
            "40960/29515 [=========================================] - 0s 3us/step\n",
            "Downloading data from http://fashion-mnist.s3-website.eu-central-1.amazonaws.com/train-images-idx3-ubyte.gz\n",
            "26427392/26421880 [==============================] - 2s 0us/step\n",
            "26435584/26421880 [==============================] - 2s 0us/step\n",
            "Downloading data from http://fashion-mnist.s3-website.eu-central-1.amazonaws.com/t10k-labels-idx1-ubyte.gz\n",
            "16384/5148 [===============================================================================================] - 0s 0us/step\n",
            "Downloading data from http://fashion-mnist.s3-website.eu-central-1.amazonaws.com/t10k-images-idx3-ubyte.gz\n",
            "4423680/4422102 [==============================] - 1s 0us/step\n",
            "4431872/4422102 [==============================] - 1s 0us/step\n"
          ],
          "name": "stdout"
        }
      ]
    },
    {
      "cell_type": "code",
      "metadata": {
        "colab": {
          "base_uri": "https://localhost:8080/"
        },
        "id": "EVZv--z1W-uO",
        "outputId": "ca04e7bb-0ece-4583-f800-4ce794cc8514"
      },
      "source": [
        "print('X_train shape:', x_train.shape)\n",
        "print('X_test shape:', x_test.shape)"
      ],
      "execution_count": null,
      "outputs": [
        {
          "output_type": "stream",
          "text": [
            "X_train shape: (60000, 28, 28)\n",
            "X_test shape: (10000, 28, 28)\n"
          ],
          "name": "stdout"
        }
      ]
    },
    {
      "cell_type": "code",
      "metadata": {
        "colab": {
          "base_uri": "https://localhost:8080/"
        },
        "id": "PmU4fRs3f7Xj",
        "outputId": "46b244c9-caea-4ef4-c36c-f5e4917e694e"
      },
      "source": [
        "print('X_train shape:', x_train_f.shape)\n",
        "print('X_test shape:', x_test_f.shape)"
      ],
      "execution_count": null,
      "outputs": [
        {
          "output_type": "stream",
          "text": [
            "X_train shape: (60000, 28, 28)\n",
            "X_test shape: (10000, 28, 28)\n"
          ],
          "name": "stdout"
        }
      ]
    },
    {
      "cell_type": "code",
      "metadata": {
        "id": "Vyr6qGPBW-3X"
      },
      "source": [
        ""
      ],
      "execution_count": null,
      "outputs": []
    },
    {
      "cell_type": "code",
      "metadata": {
        "id": "FtmmlBX6Vzxg"
      },
      "source": [
        "# define two groups of layers: feature (convolutions) and classification (dense)\n",
        "feature_layers = [\n",
        "    Conv2D(filters, kernel_size,\n",
        "           padding='valid',\n",
        "           input_shape=input_shape),\n",
        "    Activation('relu'),\n",
        "    Conv2D(filters, kernel_size),\n",
        "    Activation('relu'),\n",
        "    MaxPooling2D(pool_size=pool_size),\n",
        "    Dropout(0.25),\n",
        "    Flatten(),\n",
        "]\n",
        "\n",
        "classification_layers = [\n",
        "    Dense(128),\n",
        "    Activation('relu'),\n",
        "    Dropout(0.5),\n",
        "    Dense(num_classes),\n",
        "    Activation('softmax')\n",
        "]"
      ],
      "execution_count": null,
      "outputs": []
    },
    {
      "cell_type": "code",
      "metadata": {
        "id": "caNz-QGXVzxj"
      },
      "source": [
        "# create complete model\n",
        "model = Sequential(feature_layers + classification_layers)\n"
      ],
      "execution_count": null,
      "outputs": []
    },
    {
      "cell_type": "code",
      "metadata": {
        "colab": {
          "base_uri": "https://localhost:8080/"
        },
        "id": "3LG28sPIpu-9",
        "outputId": "c051626c-fc7b-4c52-b2f3-fe235d7a7e24"
      },
      "source": [
        "\n",
        "# train model for classification \n",
        "h_org = train_model(model,\n",
        "            (x_train, y_train),\n",
        "            (x_test, y_test), num_classes)"
      ],
      "execution_count": null,
      "outputs": [
        {
          "output_type": "stream",
          "text": [
            "x_train shape: (60000, 28, 28, 1)\n",
            "60000 train samples\n",
            "10000 test samples\n",
            "Train on 60000 samples, validate on 10000 samples\n",
            "Epoch 1/5\n",
            "60000/60000 [==============================] - 245s 4ms/step - loss: 0.2675 - accuracy: 0.9178 - val_loss: 0.0668 - val_accuracy: 0.9790\n",
            "Epoch 2/5\n",
            "60000/60000 [==============================] - 245s 4ms/step - loss: 0.0884 - accuracy: 0.9737 - val_loss: 0.0389 - val_accuracy: 0.9866\n",
            "Epoch 3/5\n",
            "60000/60000 [==============================] - 245s 4ms/step - loss: 0.0667 - accuracy: 0.9798 - val_loss: 0.0339 - val_accuracy: 0.9883\n",
            "Epoch 4/5\n",
            "60000/60000 [==============================] - 246s 4ms/step - loss: 0.0545 - accuracy: 0.9838 - val_loss: 0.0315 - val_accuracy: 0.9893\n",
            "Epoch 5/5\n",
            "60000/60000 [==============================] - 247s 4ms/step - loss: 0.0450 - accuracy: 0.9865 - val_loss: 0.0328 - val_accuracy: 0.9888\n",
            "Training time: 0:20:39.948650\n",
            "Test score: 0.0327535880948\n",
            "Test accuracy: 0.988799989223\n"
          ],
          "name": "stdout"
        }
      ]
    },
    {
      "cell_type": "code",
      "metadata": {
        "colab": {
          "base_uri": "https://localhost:8080/"
        },
        "id": "yRL5cmBxmxGz",
        "outputId": "4b659db8-015d-4df4-a38d-a351ee3df2fa"
      },
      "source": [
        "print(type(h_org))\n",
        "print(h_org.history.keys())\n",
        "print(model.metrics_names)"
      ],
      "execution_count": null,
      "outputs": [
        {
          "output_type": "stream",
          "text": [
            "<class 'keras.callbacks.callbacks.History'>\n",
            "['loss', 'val_accuracy', 'val_loss', 'accuracy']\n",
            "['loss', 'accuracy']\n"
          ],
          "name": "stdout"
        }
      ]
    },
    {
      "cell_type": "code",
      "metadata": {
        "colab": {
          "base_uri": "https://localhost:8080/",
          "height": 295
        },
        "id": "loZsq-INnSC6",
        "outputId": "9e8cf670-7dfd-45c5-99be-93bf8c16e06e"
      },
      "source": [
        "# plot accuracy over the epochs\n",
        "from matplotlib import pyplot as plt\n",
        "plt.plot(h_org.history['accuracy'],'r')\n",
        "plt.plot(h_org.history['val_accuracy'],'b')\n",
        "plt.title('model accuracy')\n",
        "plt.ylabel('accuracy')\n",
        "plt.xlabel('epoch')\n",
        "plt.legend(['training', 'validation'], loc='center right')\n",
        "plt.show()"
      ],
      "execution_count": null,
      "outputs": [
        {
          "output_type": "display_data",
          "data": {
            "image/png": "[encoded data removed]",
            "text/plain": [
              "<Figure size 432x288 with 1 Axes>"
            ]
          },
          "metadata": {
            "tags": [],
            "needs_background": "light"
          }
        }
      ]
    },
    {
      "cell_type": "code",
      "metadata": {
        "colab": {
          "base_uri": "https://localhost:8080/",
          "height": 295
        },
        "id": "NZzumOyvng47",
        "outputId": "e7b9ecf9-5026-46ac-f9a0-0dc3be653b2b"
      },
      "source": [
        "# Behviour of loss over the epochs\n",
        "\n",
        "plt.plot(h_org.history['loss'],'g')\n",
        "plt.plot(h_org.history['val_loss'],'b')\n",
        "plt.title('model loss')\n",
        "plt.ylabel('loss')\n",
        "plt.xlabel('epoch')\n",
        "plt.legend(['training', 'validation'], loc='upper right')\n",
        "plt.show()"
      ],
      "execution_count": null,
      "outputs": [
        {
          "output_type": "display_data",
          "data": {
            "image/png": "[encoded data removed]",
            "text/plain": [
              "<Figure size 432x288 with 1 Axes>"
            ]
          },
          "metadata": {
            "tags": [],
            "needs_background": "light"
          }
        }
      ]
    },
    {
      "cell_type": "markdown",
      "metadata": {
        "id": "fWRUTPmiVzxn"
      },
      "source": [
        "### Model trained in the above block can be used for classifying digits 5 to 9 by fine tuning it\n",
        "    For fine tuning we will freeze all the convolutional and maxpooling layers (feature layers)\n",
        "    This can be done by making those layers non-trainable\n",
        "    only the top(last) two layers (dense layers) are left trainable"
      ]
    },
    {
      "cell_type": "code",
      "metadata": {
        "id": "wQNVmjw1Vzxo"
      },
      "source": [
        "# freeze feature layers and rebuild model\n",
        "for l in feature_layers:\n",
        "    l.trainable = False\n"
      ],
      "execution_count": null,
      "outputs": []
    },
    {
      "cell_type": "code",
      "metadata": {
        "colab": {
          "base_uri": "https://localhost:8080/"
        },
        "id": "jXxNnEMIqNoA",
        "outputId": "73bf5b3f-ab75-4a64-ed07-423c3aa8f42b"
      },
      "source": [
        "\n",
        "# transfer: train dense layers for new classification task [5..9]\n",
        "h_retr = train_model(model,\n",
        "            (x_train_f, y_train_f),\n",
        "            (x_test_f, y_test_f), num_classes)"
      ],
      "execution_count": null,
      "outputs": [
        {
          "output_type": "stream",
          "text": [
            "x_train shape: (60000, 28, 28, 1)\n",
            "60000 train samples\n",
            "10000 test samples\n",
            "Train on 60000 samples, validate on 10000 samples\n",
            "Epoch 1/5\n",
            "60000/60000 [==============================] - 82s 1ms/step - loss: 0.5802 - accuracy: 0.8036 - val_loss: 0.3670 - val_accuracy: 0.8693\n",
            "Epoch 2/5\n",
            "60000/60000 [==============================] - 81s 1ms/step - loss: 0.3834 - accuracy: 0.8642 - val_loss: 0.3378 - val_accuracy: 0.8789\n",
            "Epoch 3/5\n",
            "60000/60000 [==============================] - 82s 1ms/step - loss: 0.3446 - accuracy: 0.8774 - val_loss: 0.3116 - val_accuracy: 0.8900\n",
            "Epoch 4/5\n",
            "60000/60000 [==============================] - 81s 1ms/step - loss: 0.3243 - accuracy: 0.8845 - val_loss: 0.3043 - val_accuracy: 0.8921\n",
            "Epoch 5/5\n",
            "60000/60000 [==============================] - 81s 1ms/step - loss: 0.3067 - accuracy: 0.8914 - val_loss: 0.3011 - val_accuracy: 0.8956\n",
            "Training time: 0:06:58.310166\n",
            "Test score: 0.301105220336\n",
            "Test accuracy: 0.895600020885\n"
          ],
          "name": "stdout"
        }
      ]
    },
    {
      "cell_type": "code",
      "metadata": {
        "colab": {
          "base_uri": "https://localhost:8080/"
        },
        "id": "ttQRd9PHp5m5",
        "outputId": "4837ed92-9a23-4c38-9d94-6d0a3aecbf02"
      },
      "source": [
        "print(h_retr.history.keys())"
      ],
      "execution_count": null,
      "outputs": [
        {
          "output_type": "stream",
          "text": [
            "['loss', 'val_accuracy', 'val_loss', 'accuracy']\n"
          ],
          "name": "stdout"
        }
      ]
    },
    {
      "cell_type": "code",
      "metadata": {
        "colab": {
          "base_uri": "https://localhost:8080/",
          "height": 295
        },
        "id": "cFHjOL8LqBtq",
        "outputId": "13aa59bf-13ea-4bfe-c7ac-165243f7bb6d"
      },
      "source": [
        "# plot accuracy over the epochs\n",
        "from matplotlib import pyplot as plt\n",
        "plt.plot(h_retr.history['accuracy'],'r')\n",
        "plt.plot(h_retr.history['val_accuracy'],'b')\n",
        "plt.title('model accuracy')\n",
        "plt.ylabel('accuracy')\n",
        "plt.xlabel('epoch')\n",
        "plt.legend(['training', 'validation'], loc='center right')\n",
        "plt.show()"
      ],
      "execution_count": null,
      "outputs": [
        {
          "output_type": "display_data",
          "data": {
            "image/png": "[encoded data removed]",
            "text/plain": [
              "<Figure size 432x288 with 1 Axes>"
            ]
          },
          "metadata": {
            "tags": [],
            "needs_background": "light"
          }
        }
      ]
    },
    {
      "cell_type": "code",
      "metadata": {
        "colab": {
          "base_uri": "https://localhost:8080/",
          "height": 295
        },
        "id": "yfK7UuGdqFhq",
        "outputId": "d1e7df10-72dc-41b2-b5fa-e57095332931"
      },
      "source": [
        "# Behviour of loss over the epochs\n",
        "plt.plot(h_retr.history['loss'],'g')\n",
        "plt.plot(h_retr.history['val_loss'],'b')\n",
        "plt.title('model loss')\n",
        "plt.ylabel('loss')\n",
        "plt.xlabel('epoch')\n",
        "plt.legend(['training', 'validation'], loc='upper right')\n",
        "plt.show()"
      ],
      "execution_count": null,
      "outputs": [
        {
          "output_type": "display_data",
          "data": {
            "image/png": "[encoded data removed]",
            "text/plain": [
              "<Figure size 432x288 with 1 Axes>"
            ]
          },
          "metadata": {
            "tags": [],
            "needs_background": "light"
          }
        }
      ]
    },
    {
      "cell_type": "code",
      "metadata": {
        "colab": {
          "base_uri": "https://localhost:8080/",
          "height": 295
        },
        "id": "jlpFyNiyqZDK",
        "outputId": "68871739-f7e5-44ca-c567-95ffdb870ec4"
      },
      "source": [
        "# Let's plot the accuracy of training and retrain over the epochs\n",
        "\n",
        "# plot accuracy over the epochs\n",
        "from matplotlib import pyplot as plt\n",
        "plt.plot(h_org.history['accuracy'],'r')\n",
        "plt.plot(h_retr.history['accuracy'],'b')\n",
        "plt.title('model accuracy')\n",
        "plt.ylabel('accuracy')\n",
        "plt.xlabel('epoch')\n",
        "plt.legend(['training_acc', 'retraining_acc'], loc='center right')\n",
        "plt.show()"
      ],
      "execution_count": null,
      "outputs": [
        {
          "output_type": "display_data",
          "data": {
            "image/png": "[encoded data removed]",
            "text/plain": [
              "<Figure size 432x288 with 1 Axes>"
            ]
          },
          "metadata": {
            "tags": [],
            "needs_background": "light"
          }
        }
      ]
    }
  ]
}